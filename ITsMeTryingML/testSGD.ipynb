{
 "cells": [
  {
   "cell_type": "code",
   "execution_count": 86,
   "id": "e2fcb870",
   "metadata": {},
   "outputs": [],
   "source": [
    "import numpy as np\n",
    "from sklearn.utils import shuffle\n",
    "from sklearn.datasets import make_blobs\n",
    "X, Y = make_blobs(n_samples=300, centers=2, n_features=2, cluster_std=5, random_state=11)"
   ]
  },
  {
   "cell_type": "code",
   "execution_count": 87,
   "id": "e5fa84c7",
   "metadata": {},
   "outputs": [
    {
     "data": {
      "image/png": "[encoded data removed]",
      "text/plain": [
       "<Figure size 432x288 with 1 Axes>"
      ]
     },
     "metadata": {
      "needs_background": "light"
     },
     "output_type": "display_data"
    }
   ],
   "source": [
    "from matplotlib import pyplot as plt\n",
    "from pandas import DataFrame \n",
    "df = DataFrame(dict(x=X[:,0], y=X[:,1], label=Y))\n",
    "colors = {0:'blue', 1:'orange'}\n",
    "fig, ax = plt.subplots()\n",
    "grouped = df.groupby('label')\n",
    "for key, group in grouped:\n",
    "    group.plot(ax=ax, kind='scatter', x='x', y='y', label=key, color=colors[key])\n",
    "plt.xlabel('X_1')\n",
    "plt.ylabel('X_2')\n",
    "plt.show()"
   ]
  },
  {
   "cell_type": "code",
   "execution_count": 88,
   "id": "42f99b6b",
   "metadata": {},
   "outputs": [],
   "source": [
    "def next_batch(X, Y, batch_size):\n",
    "    for i in np.arange(0, X.shape[0], batch_size):\n",
    "        yield (X[i:i + batch_size], Y[i:i + batch_size])"
   ]
  },
  {
   "cell_type": "code",
   "execution_count": 89,
   "id": "2410ae59",
   "metadata": {},
   "outputs": [],
   "source": [
    "X = np.c_[np.ones((X.shape[0])), X]"
   ]
  },
  {
   "cell_type": "code",
   "execution_count": 90,
   "id": "a9b4f1a6",
   "metadata": {},
   "outputs": [],
   "source": [
    "import numpy as np\n",
    "def sigmoid(z):\n",
    "    return 1 / (1 + np.exp(-z))"
   ]
  },
  {
   "cell_type": "code",
   "execution_count": 91,
   "id": "b68d4400",
   "metadata": {},
   "outputs": [],
   "source": [
    "def hx(W,X):\n",
    "    return sigmoid(np.dot(X,W))"
   ]
  },
  {
   "cell_type": "code",
   "execution_count": 92,
   "id": "ac9ce1f0",
   "metadata": {},
   "outputs": [],
   "source": [
    "def cost(W, X, Y):\n",
    "    y_pred = hx(W,X)\n",
    "    return -1 * sum(Y*np.log(y_pred) + (1-Y)*np.log(1-y_pred))"
   ]
  },
  {
   "cell_type": "code",
   "execution_count": 93,
   "id": "be3f3913",
   "metadata": {},
   "outputs": [],
   "source": [
    "def grad(W, X, Y):\n",
    "    y_pred = hx(W,X)\n",
    "    print(\"y_pred\", y_pred)\n",
    "    A = (Y*(1-y_pred) - (1-Y)*y_pred)\n",
    "    g = -1* np.dot(A.T,X)\n",
    "    return g"
   ]
  },
  {
   "cell_type": "code",
   "execution_count": 94,
   "id": "b5b044fb",
   "metadata": {},
   "outputs": [],
   "source": [
    "\n",
    "def sgd(W_new, W_prev, lr, batch_size, epochs):\n",
    "    X_, Y_ = shuffle(X, Y, random_state=0)\n",
    "    \n",
    "    for e in range(epochs):\n",
    "        epoch_loss = []\n",
    "        X_, Y_ = shuffle(X_, Y_, random_state=0)\n",
    "        for (batchX, batchY) in next_batch(X_, Y_, batch_size):\n",
    "            W_prev = W_new\n",
    "\n",
    "            print(\"W_prev\",W_prev)            \n",
    "#             print(\"W_prev\",W_prev)\n",
    "            print(\"X_\" ,X_.shape)\n",
    "            print(\"batchX\",batchX.shape)\n",
    "            print(batchX)\n",
    "            print(\"batchY\",batchY.shape)\n",
    "            print(batchY)\n",
    "            gradients = grad(W_prev, batchX, batchY)\n",
    "            \n",
    "            print(gradients)\n",
    "            return\n",
    "            \n",
    "#             epoch_loss.append(cost(W_prev, batchX, batchY))\n",
    "            gradients = grad(W_prev, batchX, batchY)\n",
    "            W_new = W_prev - lr*gradients\n",
    "#         print(np.average(epoch_loss))\n",
    "    return W_new"
   ]
  },
  {
   "cell_type": "code",
   "execution_count": 95,
   "id": "6a4437e2",
   "metadata": {},
   "outputs": [
    {
     "name": "stdout",
     "output_type": "stream",
     "text": [
      "W_prev [0.68161259 0.14404106 0.72448005]\n",
      "X_ (300, 3)\n",
      "batchX (9, 3)\n",
      "[[  1.          -1.88829542   2.3302919 ]\n",
      " [  1.         -10.96460974  -5.96349171]\n",
      " [  1.          -1.58463113   8.70549127]\n",
      " [  1.          -2.03970938  10.26146912]\n",
      " [  1.         -12.09363448  -8.90147072]\n",
      " [  1.          -9.61657531  -6.11479099]\n",
      " [  1.           0.07079001   3.8711527 ]\n",
      " [  1.           4.43950205  -3.82210746]\n",
      " [  1.          -4.74506482  -0.06890418]]\n",
      "batchY (9,)\n",
      "[1 0 1 1 0 0 1 1 1]\n",
      "y_pred [8.90696031e-01 5.38803372e-03 9.98842478e-01 9.99599358e-01\n",
      " 5.47661553e-04 5.86067159e-03 9.70584655e-01 1.90316117e-01\n",
      " 4.87055075e-01]\n",
      "[-1.45110992 -1.07572953  2.67443016]\n"
     ]
    }
   ],
   "source": [
    "W = np.random.uniform(size=(X.shape[1],))\n",
    "W.shape\n",
    "W = sgd(W, W, .009, 9, 200)"
   ]
  },
  {
   "cell_type": "code",
   "execution_count": 96,
   "id": "10b19ccf",
   "metadata": {},
   "outputs": [
    {
     "name": "stdout",
     "output_type": "stream",
     "text": [
      "None\n",
      "W_prev None\n",
      "X_ (300, 3)\n",
      "batchX (32, 3)\n",
      "[[  1.          -1.88829542   2.3302919 ]\n",
      " [  1.         -10.96460974  -5.96349171]\n",
      " [  1.          -1.58463113   8.70549127]\n",
      " [  1.          -2.03970938  10.26146912]\n",
      " [  1.         -12.09363448  -8.90147072]\n",
      " [  1.          -9.61657531  -6.11479099]\n",
      " [  1.           0.07079001   3.8711527 ]\n",
      " [  1.           4.43950205  -3.82210746]\n",
      " [  1.          -4.74506482  -0.06890418]\n",
      " [  1.          -5.01028979   2.04793082]\n",
      " [  1.         -11.13679115  -5.75996326]\n",
      " [  1.           5.87607933  -2.31204892]\n",
      " [  1.           3.07040296   3.00582557]\n",
      " [  1.          -3.31512422   2.17959063]\n",
      " [  1.         -14.58986436 -12.84700833]\n",
      " [  1.         -11.08198563 -12.13587606]\n",
      " [  1.          -5.94971805  -9.29213686]\n",
      " [  1.          -3.08086293   5.58482981]\n",
      " [  1.         -19.63192885  -1.6358716 ]\n",
      " [  1.          -6.87278575  -6.89522919]\n",
      " [  1.          -4.14049272  12.66363998]\n",
      " [  1.           4.33950287   8.63548403]\n",
      " [  1.          -2.09934298   1.23157254]\n",
      " [  1.          -9.04146636  -1.8019767 ]\n",
      " [  1.           5.42249143   9.62829319]\n",
      " [  1.          -9.96240587 -19.15194288]\n",
      " [  1.          -6.41425804  -0.05114345]\n",
      " [  1.          -4.68883903  -8.91912908]\n",
      " [  1.          -4.28268003  -9.45214954]\n",
      " [  1.          -1.77832087   6.64485067]\n",
      " [  1.          -7.33064257  -9.40846226]\n",
      " [  1.         -16.24746566  -9.8936581 ]]\n",
      "batchY (32,)\n",
      "[1 0 1 1 0 0 1 1 1 1 1 1 1 1 0 0 0 1 0 0 1 1 1 0 1 0 1 0 0 1 0 0]\n"
     ]
    },
    {
     "ename": "TypeError",
     "evalue": "unsupported operand type(s) for *: 'float' and 'NoneType'",
     "output_type": "error",
     "traceback": [
      "\u001b[0;31m---------------------------------------------------------------------------\u001b[0m",
      "\u001b[0;31mTypeError\u001b[0m                                 Traceback (most recent call last)",
      "\u001b[0;32m<ipython-input-96-c7c65e762e11>\u001b[0m in \u001b[0;36m<module>\u001b[0;34m\u001b[0m\n\u001b[1;32m      1\u001b[0m \u001b[0mprint\u001b[0m\u001b[0;34m(\u001b[0m\u001b[0mW\u001b[0m\u001b[0;34m)\u001b[0m\u001b[0;34m\u001b[0m\u001b[0;34m\u001b[0m\u001b[0m\n\u001b[0;32m----> 2\u001b[0;31m \u001b[0mW\u001b[0m \u001b[0;34m=\u001b[0m \u001b[0msgd\u001b[0m\u001b[0;34m(\u001b[0m\u001b[0mW\u001b[0m\u001b[0;34m,\u001b[0m \u001b[0mW\u001b[0m\u001b[0;34m,\u001b[0m \u001b[0;36m.009\u001b[0m\u001b[0;34m,\u001b[0m \u001b[0;36m32\u001b[0m\u001b[0;34m,\u001b[0m \u001b[0;36m200\u001b[0m\u001b[0;34m)\u001b[0m\u001b[0;34m\u001b[0m\u001b[0;34m\u001b[0m\u001b[0m\n\u001b[0m\u001b[1;32m      3\u001b[0m \u001b[0mprint\u001b[0m\u001b[0;34m(\u001b[0m\u001b[0mW\u001b[0m\u001b[0;34m)\u001b[0m\u001b[0;34m\u001b[0m\u001b[0;34m\u001b[0m\u001b[0m\n",
      "\u001b[0;32m<ipython-input-94-d5716c61b351>\u001b[0m in \u001b[0;36msgd\u001b[0;34m(W_new, W_prev, lr, batch_size, epochs)\u001b[0m\n\u001b[1;32m     15\u001b[0m             \u001b[0mprint\u001b[0m\u001b[0;34m(\u001b[0m\u001b[0;34m\"batchY\"\u001b[0m\u001b[0;34m,\u001b[0m\u001b[0mbatchY\u001b[0m\u001b[0;34m.\u001b[0m\u001b[0mshape\u001b[0m\u001b[0;34m)\u001b[0m\u001b[0;34m\u001b[0m\u001b[0;34m\u001b[0m\u001b[0m\n\u001b[1;32m     16\u001b[0m             \u001b[0mprint\u001b[0m\u001b[0;34m(\u001b[0m\u001b[0mbatchY\u001b[0m\u001b[0;34m)\u001b[0m\u001b[0;34m\u001b[0m\u001b[0;34m\u001b[0m\u001b[0m\n\u001b[0;32m---> 17\u001b[0;31m             \u001b[0mgradients\u001b[0m \u001b[0;34m=\u001b[0m \u001b[0mgrad\u001b[0m\u001b[0;34m(\u001b[0m\u001b[0mW_prev\u001b[0m\u001b[0;34m,\u001b[0m \u001b[0mbatchX\u001b[0m\u001b[0;34m,\u001b[0m \u001b[0mbatchY\u001b[0m\u001b[0;34m)\u001b[0m\u001b[0;34m\u001b[0m\u001b[0;34m\u001b[0m\u001b[0m\n\u001b[0m\u001b[1;32m     18\u001b[0m \u001b[0;34m\u001b[0m\u001b[0m\n\u001b[1;32m     19\u001b[0m             \u001b[0mprint\u001b[0m\u001b[0;34m(\u001b[0m\u001b[0mgradients\u001b[0m\u001b[0;34m)\u001b[0m\u001b[0;34m\u001b[0m\u001b[0;34m\u001b[0m\u001b[0m\n",
      "\u001b[0;32m<ipython-input-93-0e7c2525b035>\u001b[0m in \u001b[0;36mgrad\u001b[0;34m(W, X, Y)\u001b[0m\n\u001b[1;32m      1\u001b[0m \u001b[0;32mdef\u001b[0m \u001b[0mgrad\u001b[0m\u001b[0;34m(\u001b[0m\u001b[0mW\u001b[0m\u001b[0;34m,\u001b[0m \u001b[0mX\u001b[0m\u001b[0;34m,\u001b[0m \u001b[0mY\u001b[0m\u001b[0;34m)\u001b[0m\u001b[0;34m:\u001b[0m\u001b[0;34m\u001b[0m\u001b[0;34m\u001b[0m\u001b[0m\n\u001b[0;32m----> 2\u001b[0;31m     \u001b[0my_pred\u001b[0m \u001b[0;34m=\u001b[0m \u001b[0mhx\u001b[0m\u001b[0;34m(\u001b[0m\u001b[0mW\u001b[0m\u001b[0;34m,\u001b[0m\u001b[0mX\u001b[0m\u001b[0;34m)\u001b[0m\u001b[0;34m\u001b[0m\u001b[0;34m\u001b[0m\u001b[0m\n\u001b[0m\u001b[1;32m      3\u001b[0m     \u001b[0mprint\u001b[0m\u001b[0;34m(\u001b[0m\u001b[0;34m\"y_pred\"\u001b[0m\u001b[0;34m,\u001b[0m \u001b[0my_pred\u001b[0m\u001b[0;34m)\u001b[0m\u001b[0;34m\u001b[0m\u001b[0;34m\u001b[0m\u001b[0m\n\u001b[1;32m      4\u001b[0m     \u001b[0mA\u001b[0m \u001b[0;34m=\u001b[0m \u001b[0;34m(\u001b[0m\u001b[0mY\u001b[0m\u001b[0;34m*\u001b[0m\u001b[0;34m(\u001b[0m\u001b[0;36m1\u001b[0m\u001b[0;34m-\u001b[0m\u001b[0my_pred\u001b[0m\u001b[0;34m)\u001b[0m \u001b[0;34m-\u001b[0m \u001b[0;34m(\u001b[0m\u001b[0;36m1\u001b[0m\u001b[0;34m-\u001b[0m\u001b[0mY\u001b[0m\u001b[0;34m)\u001b[0m\u001b[0;34m*\u001b[0m\u001b[0my_pred\u001b[0m\u001b[0;34m)\u001b[0m\u001b[0;34m\u001b[0m\u001b[0;34m\u001b[0m\u001b[0m\n\u001b[1;32m      5\u001b[0m     \u001b[0mg\u001b[0m \u001b[0;34m=\u001b[0m \u001b[0;34m-\u001b[0m\u001b[0;36m1\u001b[0m\u001b[0;34m*\u001b[0m \u001b[0mnp\u001b[0m\u001b[0;34m.\u001b[0m\u001b[0mdot\u001b[0m\u001b[0;34m(\u001b[0m\u001b[0mA\u001b[0m\u001b[0;34m.\u001b[0m\u001b[0mT\u001b[0m\u001b[0;34m,\u001b[0m\u001b[0mX\u001b[0m\u001b[0;34m)\u001b[0m\u001b[0;34m\u001b[0m\u001b[0;34m\u001b[0m\u001b[0m\n",
      "\u001b[0;32m<ipython-input-91-b855f603fd36>\u001b[0m in \u001b[0;36mhx\u001b[0;34m(W, X)\u001b[0m\n\u001b[1;32m      1\u001b[0m \u001b[0;32mdef\u001b[0m \u001b[0mhx\u001b[0m\u001b[0;34m(\u001b[0m\u001b[0mW\u001b[0m\u001b[0;34m,\u001b[0m\u001b[0mX\u001b[0m\u001b[0;34m)\u001b[0m\u001b[0;34m:\u001b[0m\u001b[0;34m\u001b[0m\u001b[0;34m\u001b[0m\u001b[0m\n\u001b[0;32m----> 2\u001b[0;31m     \u001b[0;32mreturn\u001b[0m \u001b[0msigmoid\u001b[0m\u001b[0;34m(\u001b[0m\u001b[0mnp\u001b[0m\u001b[0;34m.\u001b[0m\u001b[0mdot\u001b[0m\u001b[0;34m(\u001b[0m\u001b[0mX\u001b[0m\u001b[0;34m,\u001b[0m\u001b[0mW\u001b[0m\u001b[0;34m)\u001b[0m\u001b[0;34m)\u001b[0m\u001b[0;34m\u001b[0m\u001b[0;34m\u001b[0m\u001b[0m\n\u001b[0m",
      "\u001b[0;32m<__array_function__ internals>\u001b[0m in \u001b[0;36mdot\u001b[0;34m(*args, **kwargs)\u001b[0m\n",
      "\u001b[0;31mTypeError\u001b[0m: unsupported operand type(s) for *: 'float' and 'NoneType'"
     ]
    }
   ],
   "source": [
    "print(W)\n",
    "W = sgd(W, W, .009, 32, 200)\n",
    "print(W)"
   ]
  },
  {
   "cell_type": "code",
   "execution_count": null,
   "id": "b3ba714a",
   "metadata": {},
   "outputs": [],
   "source": [
    "def graph(formula, x_range):  \n",
    "    x = np.array(x_range)  \n",
    "    y = formula(x)  \n",
    "    plt.plot(x, y)  \n",
    "    \n",
    "def my_formula(x):\n",
    "    return (-W[0]-W[1]*x)/W[2]\n",
    "\n",
    "from matplotlib import pyplot as plt\n",
    "from pandas import DataFrame \n",
    "df = DataFrame(dict(x=X[:,1], y=X[:,2], label=Y))\n",
    "colors = {0:'blue', 1:'orange'}\n",
    "fig, ax = plt.subplots()\n",
    "grouped = df.groupby('label')\n",
    "for key, group in grouped:\n",
    "    group.plot(ax=ax, kind='scatter', x='x', y='y', label=key, color=colors[key])\n",
    "graph(my_formula, range(-20,15))\n",
    "plt.xlabel('X_1')\n",
    "plt.ylabel('X_2')\n",
    "plt.show()"
   ]
  },
  {
   "cell_type": "code",
   "execution_count": null,
   "id": "1a60ab00",
   "metadata": {},
   "outputs": [],
   "source": []
  }
 ],
 "metadata": {
  "kernelspec": {
   "display_name": "Python 3",
   "language": "python",
   "name": "python3"
  },
  "language_info": {
   "codemirror_mode": {
    "name": "ipython",
    "version": 3
   },
   "file_extension": ".py",
   "mimetype": "text/x-python",
   "name": "python",
   "nbconvert_exporter": "python",
   "pygments_lexer": "ipython3",
   "version": "3.8.8"
  }
 },
 "nbformat": 4,
 "nbformat_minor": 5
}
