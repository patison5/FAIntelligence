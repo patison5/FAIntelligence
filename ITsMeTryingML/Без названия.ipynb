{
 "cells": [
  {
   "cell_type": "code",
   "execution_count": null,
   "id": "7786c108",
   "metadata": {},
   "outputs": [],
   "source": [
    "import numpy as np\n",
    "\n",
    "# Сигмоида \n",
    "def nonlin(x,deriv=False):\n",
    "    if(deriv==True):\n",
    "#         return f(x)*(1-f(x))\n",
    "        return x*(1-x)\n",
    "    return 1/(1+np.exp(-x))\n",
    "    \n",
    "# набор входных данных\n",
    "X = np.array([  [0,0,1],\n",
    "                [0,1,1],\n",
    "                [1,0,1],\n",
    "                [1,1,1] ])\n",
    "    \n",
    "# выходные данные            \n",
    "y = np.array([[0,0,1,1]]).T\n",
    "\n",
    "# сделаем случайные числа более определёнными\n",
    "np.random.seed(1)\n",
    "\n",
    "# инициализируем веса случайным образом со средним 0\n",
    "syn0 = 2*np.random.random((3,1)) - 1\n",
    "\n",
    "for iter in range(1, 10000):\n",
    "\n",
    "    # прямое распространение\n",
    "    l0 = X\n",
    "    l1 = nonlin(np.dot(l0,syn0))\n",
    "\n",
    "    # насколько мы ошиблись?\n",
    "    l1_error = y - l1\n",
    "    \n",
    "    # перемножим это с наклоном сигмоиды \n",
    "    # на основе значений в l1\n",
    "    l1_delta = l1_error * nonlin(l1,True) # !!!\n",
    "\n",
    "    # обновим веса\n",
    "    syn0 += np.dot(l0.T,l1_delta) # !!!\n",
    "\n",
    "print (\"Выходные данные после тренировки:\")\n",
    "print (l1)"
   ]
  }
 ],
 "metadata": {
  "kernelspec": {
   "display_name": "Python 3",
   "language": "python",
   "name": "python3"
  },
  "language_info": {
   "codemirror_mode": {
    "name": "ipython",
    "version": 3
   },
   "file_extension": ".py",
   "mimetype": "text/x-python",
   "name": "python",
   "nbconvert_exporter": "python",
   "pygments_lexer": "ipython3",
   "version": "3.8.8"
  }
 },
 "nbformat": 4,
 "nbformat_minor": 5
}
