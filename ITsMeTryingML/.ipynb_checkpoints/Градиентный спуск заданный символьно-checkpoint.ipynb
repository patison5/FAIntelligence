{
 "cells": [
  {
   "cell_type": "code",
   "execution_count": 426,
   "id": "dbdd5700",
   "metadata": {},
   "outputs": [
    {
     "data": {
      "text/latex": [
       "$\\displaystyle x_{0}^{2} + x_{1}^{2}$"
      ],
      "text/plain": [
       "x0**2 + x1**2"
      ]
     },
     "execution_count": 426,
     "metadata": {},
     "output_type": "execute_result"
    }
   ],
   "source": [
    "import numpy as np\n",
    "import scipy as sc\n",
    "import sympy\n",
    "from matplotlib import pyplot as plt\n",
    "from matplotlib import patheffects\n",
    "from mpl_toolkits.mplot3d import Axes3D\n",
    "from matplotlib import cm\n",
    "from sympy.tensor.array import Array\n",
    "\n",
    "# Задание формул символьным типом (при помощи sympy)\n",
    "x0,x1,z1,a = sympy.symbols('x0 x1 z1 a')\n",
    "fz = 2 * x0**2 + x0*x1 - x1**2\n",
    "# fz\n",
    "\n",
    "\n",
    "xs = [sympy.Symbol('x'+str(i)) for i in range(2)]\n",
    "# f = - xs[0] ** 2 + 3 * xs[1] ** 2 + 1\n",
    "f = 2 * xs[0]**2 + xs[0]*xs[1] - xs[1]**2\n",
    "f = xs[0]**2 + xs[1]**2\n",
    "f"
   ]
  },
  {
   "cell_type": "code",
   "execution_count": 427,
   "id": "774eef51",
   "metadata": {},
   "outputs": [],
   "source": [
    "def get_fn_result(df, x0):\n",
    "    ''' возвращает числовой результат символьно заданной функции '''\n",
    "#     return np.double(df.subs([(xs[i], x0[i]) for i in range(len(xs))]))\n",
    "    r = []\n",
    "    for i,_ in enumerate(xs):\n",
    "        s = df[i].subs(xs[i], x0[i])\n",
    "        r.append(s)\n",
    "    return np.double(r)\n",
    "\n",
    "def grad_descent(f, z0, with_history=False, lr=1e-2, eps=1e-06): \n",
    "    ''' Градиентный спуск для символьно заданной ф-ии'''\n",
    "    df = [sympy.diff(f, x) for x in xs] # Частные производные символьно заданной функции f\n",
    "#     df = Array([sympy.diff(f, x) for x in xs]) # Частные производные символьно заданной функции f\n",
    "    r = get_fn_result(df, z0)\n",
    "    history = []\n",
    "    \n",
    "    while True:\n",
    "        z0 = z0 - lr * get_fn_result(df, z0)\n",
    "        history.append(z0)\n",
    "        norm = np.linalg.norm(get_fn_result(df, z0))\n",
    "#         print(norm, eps, \" ---> \", df, \", \", z0)\n",
    "        if norm < eps:\n",
    "            break\n",
    "            \n",
    "    if with_history:\n",
    "        return np.array(history)\n",
    "    else:\n",
    "        return z0"
   ]
  },
  {
   "cell_type": "code",
   "execution_count": 428,
   "id": "6e0415cf",
   "metadata": {},
   "outputs": [
    {
     "name": "stdout",
     "output_type": "stream",
     "text": [
      "[[9.80000000e-01 1.96000000e+00]\n",
      " [9.60400000e-01 1.92080000e+00]\n",
      " [9.41192000e-01 1.88238400e+00]\n",
      " ...\n",
      " [2.32762613e-07 4.65525226e-07]\n",
      " [2.28107361e-07 4.56214721e-07]\n",
      " [2.23545213e-07 4.47090427e-07]]\n"
     ]
    }
   ],
   "source": [
    "history = grad_descent(f, np.array([1., 2.]), True)\n",
    "print(history)"
   ]
  },
  {
   "cell_type": "code",
   "execution_count": 429,
   "id": "2535de9b",
   "metadata": {},
   "outputs": [
    {
     "name": "stdout",
     "output_type": "stream",
     "text": [
      "x0**2 + x1**2\n"
     ]
    },
    {
     "data": {
      "text/latex": [
       "$\\displaystyle 500$"
      ],
      "text/plain": [
       "500"
      ]
     },
     "execution_count": 429,
     "metadata": {},
     "output_type": "execute_result"
    }
   ],
   "source": [
    "print(f)\n",
    "f.subs({x0:10, x1: 20})\n",
    "# print(f.subs(x0, 1))\n",
    "# print(f.subs({x0: 1}))\n",
    "# print(f.subs({x0: 1, x1: 2}))\n"
   ]
  },
  {
   "cell_type": "code",
   "execution_count": 430,
   "id": "b2c6872f",
   "metadata": {},
   "outputs": [
    {
     "name": "stdout",
     "output_type": "stream",
     "text": [
      "500\n",
      "500\n",
      "199 500 <class 'sympy.core.numbers.Integer'>\n"
     ]
    }
   ],
   "source": [
    "x2, x3 = sympy.symbols('x y')\n",
    "f2 = x2**2 + x3**2\n",
    "# print(f2)\n",
    "f2.subs({x2:10, x3: 20})\n",
    "\n",
    "\n",
    "k = f.subs({x0:10, x1: 20})\n",
    "print(k)\n",
    "print(f.subs({x0:10, x1: 20}))\n",
    "\n",
    "b = f.subs({x0:10, x1: 20})\n",
    "print(i, b, type(b))"
   ]
  },
  {
   "cell_type": "code",
   "execution_count": 435,
   "id": "aa096436",
   "metadata": {},
   "outputs": [
    {
     "name": "stdout",
     "output_type": "stream",
     "text": [
      "[[-8.         -7.92964824 -7.85929648 ...  5.85929648  5.92964824\n",
      "   6.        ]\n",
      " [-8.         -7.92964824 -7.85929648 ...  5.85929648  5.92964824\n",
      "   6.        ]\n",
      " [-8.         -7.92964824 -7.85929648 ...  5.85929648  5.92964824\n",
      "   6.        ]\n",
      " ...\n",
      " [-8.         -7.92964824 -7.85929648 ...  5.85929648  5.92964824\n",
      "   6.        ]\n",
      " [-8.         -7.92964824 -7.85929648 ...  5.85929648  5.92964824\n",
      "   6.        ]\n",
      " [-8.         -7.92964824 -7.85929648 ...  5.85929648  5.92964824\n",
      "   6.        ]]\n",
      "-------\n",
      "[[-4.         -4.         -4.         ... -4.         -4.\n",
      "  -4.        ]\n",
      " [-3.95979899 -3.95979899 -3.95979899 ... -3.95979899 -3.95979899\n",
      "  -3.95979899]\n",
      " [-3.91959799 -3.91959799 -3.91959799 ... -3.91959799 -3.91959799\n",
      "  -3.91959799]\n",
      " ...\n",
      " [ 3.91959799  3.91959799  3.91959799 ...  3.91959799  3.91959799\n",
      "   3.91959799]\n",
      " [ 3.95979899  3.95979899  3.95979899 ...  3.95979899  3.95979899\n",
      "   3.95979899]\n",
      " [ 4.          4.          4.         ...  4.          4.\n",
      "   4.        ]]\n",
      "-------\n",
      "[[32. 32. 32. ... 32. 32. 32.]\n",
      " [32. 32. 32. ... 32. 32. 32.]\n",
      " [32. 32. 32. ... 32. 32. 32.]\n",
      " ...\n",
      " [32. 32. 32. ... 32. 32. 32.]\n",
      " [32. 32. 32. ... 32. 32. 32.]\n",
      " [32. 32. 32. ... 32. 32. 32.]]\n"
     ]
    },
    {
     "data": {
      "text/plain": [
       "<Figure size 432x288 with 0 Axes>"
      ]
     },
     "metadata": {},
     "output_type": "display_data"
    },
    {
     "data": {
      "image/png": "[encoded data removed]",
      "text/plain": [
       "<Figure size 432x288 with 1 Axes>"
      ]
     },
     "metadata": {
      "needs_background": "light"
     },
     "output_type": "display_data"
    }
   ],
   "source": [
    "# Data\n",
    "fig = plt.figure()\n",
    "\n",
    "xrange = np.linspace(-8, 6, 200)\n",
    "yrange = np.linspace(-4, 4, 200)\n",
    "X,Y = np.meshgrid(xrange, yrange)\n",
    "\n",
    "Z = X\n",
    "\n",
    "print(X)\n",
    "print('-------')\n",
    "print(Y)\n",
    "\n",
    "for i in range(len(xrange)):\n",
    "    for j in range(len(yrange)):\n",
    "        xx1 = X[i,j]\n",
    "        yy1 = Y[i,j]\n",
    "        Z[i,j] = f.subs({x0:x1, x1:y1})\n",
    "\n",
    "        \n",
    "print('-------')\n",
    "print(Z)\n",
    "\n",
    "fig = plt.figure()\n",
    "ax = plt.axes(projection='3d')\n",
    "# ax.contour3D(X, Y, Z, 80, cmap=cm.coolwarm)\n",
    "ax.view_init(25, -86)\n",
    "# Plot the 3d surface\n",
    "surface = ax.plot_surface(X, Y, Z,\n",
    "                          cmap=cm.coolwarm,\n",
    "                          rstride = 2,\n",
    "                          cstride = 2)\n",
    "ax.set_xlabel('x')\n",
    "ax.set_ylabel('y')\n",
    "ax.set_zlabel('z');\n",
    "ax.set_title('wireframe');"
   ]
  },
  {
   "cell_type": "code",
   "execution_count": null,
   "id": "42187ea6",
   "metadata": {},
   "outputs": [],
   "source": []
  },
  {
   "cell_type": "code",
   "execution_count": null,
   "id": "b9b9de2c",
   "metadata": {},
   "outputs": [],
   "source": []
  }
 ],
 "metadata": {
  "kernelspec": {
   "display_name": "Python 3",
   "language": "python",
   "name": "python3"
  },
  "language_info": {
   "codemirror_mode": {
    "name": "ipython",
    "version": 3
   },
   "file_extension": ".py",
   "mimetype": "text/x-python",
   "name": "python",
   "nbconvert_exporter": "python",
   "pygments_lexer": "ipython3",
   "version": "3.8.8"
  }
 },
 "nbformat": 4,
 "nbformat_minor": 5
}
