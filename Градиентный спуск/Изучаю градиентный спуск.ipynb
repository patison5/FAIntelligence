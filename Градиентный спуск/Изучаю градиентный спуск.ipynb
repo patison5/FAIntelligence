{
 "cells": [
  {
   "cell_type": "code",
   "execution_count": 1,
   "id": "0cb57179",
   "metadata": {},
   "outputs": [],
   "source": [
    "from IPython.display import display, Math, Latex"
   ]
  },
  {
   "cell_type": "code",
   "execution_count": 6,
   "id": "55169bef",
   "metadata": {},
   "outputs": [
    {
     "data": {
      "text/latex": [
       "$\\displaystyle E = \\sum_{i=1}^N(y_i - f(x_i))^2 = \\sum_{i=1}^N(y_i-ax_i-b)^2$"
      ],
      "text/plain": [
       "<IPython.core.display.Math object>"
      ]
     },
     "metadata": {},
     "output_type": "display_data"
    }
   ],
   "source": [
    "display(Math(r'E = \\sum_{i=1}^N(y_i - f(x_i))^2 = \\sum_{i=1}^N(y_i-ax_i-b)^2'))"
   ]
  },
  {
   "cell_type": "code",
   "execution_count": 26,
   "id": "870458aa",
   "metadata": {},
   "outputs": [
    {
     "data": {
      "text/latex": [
       "$\\displaystyle \\frac{\\vartheta E(a,b)}{\\vartheta a} = -2 \\sum_{i=1}^N (y_i - ax_i -b) * x_i$"
      ],
      "text/plain": [
       "<IPython.core.display.Math object>"
      ]
     },
     "metadata": {},
     "output_type": "display_data"
    },
    {
     "data": {
      "text/latex": [
       "$\\displaystyle \\frac{\\vartheta E(a,b)}{\\vartheta b} = -2 \\sum_{i=1}^N (y_i - ax_i -b) * 1$"
      ],
      "text/plain": [
       "<IPython.core.display.Math object>"
      ]
     },
     "metadata": {},
     "output_type": "display_data"
    }
   ],
   "source": [
    "display(Math(r'\\frac{\\vartheta E(a,b)}{\\vartheta a} = -2 \\sum_{i=1}^N (y_i - ax_i -b) * x_i'))\n",
    "display(Math(r'\\frac{\\vartheta E(a,b)}{\\vartheta b} = -2 \\sum_{i=1}^N (y_i - ax_i -b) * 1'))"
   ]
  },
  {
   "cell_type": "code",
   "execution_count": 29,
   "id": "e01e0f94",
   "metadata": {},
   "outputs": [
    {
     "data": {
      "text/latex": [
       "$\\displaystyle a_{n+1} = a_n - \\lambda^1_n * \\frac{\\vartheta E(a,b)}{\\vartheta a}$"
      ],
      "text/plain": [
       "<IPython.core.display.Math object>"
      ]
     },
     "metadata": {},
     "output_type": "display_data"
    },
    {
     "data": {
      "text/latex": [
       "$\\displaystyle b_{n+1} = b_n - \\lambda^2_n * \\frac{\\vartheta E(a,b)}{\\vartheta b}$"
      ],
      "text/plain": [
       "<IPython.core.display.Math object>"
      ]
     },
     "metadata": {},
     "output_type": "display_data"
    }
   ],
   "source": [
    "display(Math(r'a_{n+1} = a_n - \\lambda^1_n * \\frac{\\vartheta E(a,b)}{\\vartheta a}'))\n",
    "display(Math(r'b_{n+1} = b_n - \\lambda^2_n * \\frac{\\vartheta E(a,b)}{\\vartheta b}'))"
   ]
  },
  {
   "cell_type": "code",
   "execution_count": 33,
   "id": "f8247f09",
   "metadata": {},
   "outputs": [],
   "source": [
    "import time\n",
    "import numpy as np\n",
    "import scipy as sc\n",
    "import sympy as sy\n",
    "\n",
    "N = 100 # Кол-во экспериментов\n",
    "Niter = 50 # Кол-во итераций\n",
    "sigma = 3 # Стандартное отклонение наблюдаемых значений\n",
    "at = 0.5\n",
    "bt = 2\n",
    "\n",
    "def E(y,a,b):\n",
    "    ff = np.array([a * z + b for z in range(N)])\n",
    "    return np.dot((y - ff).T, (y - ff))\n",
    "\n",
    "def dEda(y,a,b):\n",
    "    ff = np.array([a * z + b for z in range(N)])\n",
    "    return -2 * np.dot((y - ff).T, range(N))\n",
    "\n",
    "def dEdb(y, a, b):\n",
    "    ff = np.array([a * z + b for z in range(N)])\n",
    "    return -2 * (y - ff).sum()\n",
    "\n",
    "aa = 0\n",
    "bb = 0\n",
    "lmd1 = 0.000001\n",
    "lmd2 = 0.0005\n",
    "\n",
    "f = np.array([at * z + bt for z in range(N)])\n",
    "y = np.array(f + np.random.normal(0, sigma, N))"
   ]
  },
  {
   "cell_type": "code",
   "execution_count": 36,
   "id": "549e2877",
   "metadata": {},
   "outputs": [],
   "source": [
    "a_plt = np.arange(-1, 2, 0.1)\n",
    "b_plt = np.arange(0, 3, 0.1)\n",
    "E_plt = np.array([[E(y, a, b) for a in a_plt] for b in b_plt])"
   ]
  },
  {
   "cell_type": "code",
   "execution_count": null,
   "id": "17582115",
   "metadata": {},
   "outputs": [],
   "source": []
  }
 ],
 "metadata": {
  "kernelspec": {
   "display_name": "Python 3",
   "language": "python",
   "name": "python3"
  },
  "language_info": {
   "codemirror_mode": {
    "name": "ipython",
    "version": 3
   },
   "file_extension": ".py",
   "mimetype": "text/x-python",
   "name": "python",
   "nbconvert_exporter": "python",
   "pygments_lexer": "ipython3",
   "version": "3.8.8"
  }
 },
 "nbformat": 4,
 "nbformat_minor": 5
}
