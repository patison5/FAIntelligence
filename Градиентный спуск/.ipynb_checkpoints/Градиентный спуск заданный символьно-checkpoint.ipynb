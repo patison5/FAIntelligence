{
 "cells": [
  {
   "cell_type": "code",
   "execution_count": null,
   "id": "dbdd5700",
   "metadata": {},
   "outputs": [],
   "source": [
    "%run DFFunctions.ipynb\n",
    "\n",
    "import numpy as np\n",
    "import scipy as sc\n",
    "import sympy\n",
    "from matplotlib import pyplot as plt\n",
    "from matplotlib import patheffects\n",
    "from mpl_toolkits.mplot3d import Axes3D\n",
    "from matplotlib import cm\n",
    "from sympy.tensor.array import Array\n",
    "import time\n",
    "from sklearn.utils import shuffle\n",
    "\n",
    "# Задание формул символьным типом (при помощи sympy)\n",
    "xs = [sympy.Symbol('x'+str(i)) for i in range(2)]\n",
    "f = 2 * xs[0]**2 + xs[0]*xs[1] - xs[1]**2\n",
    "f = xs[0]**2 + xs[1]**2\n",
    "f"
   ]
  },
  {
   "cell_type": "code",
   "execution_count": 6,
   "id": "253fd0ad",
   "metadata": {},
   "outputs": [],
   "source": [
    "def get_fn_resultSingle(df, x0):\n",
    "    ''' \n",
    "        Вернуть числовой результат частных производных символьно заданной функции для одного параметра x,y\n",
    "        df - массив частных производных функции\n",
    "        x0 - массив входных данных [x, y]\n",
    "    '''\n",
    "    variables = [(xs[i], x0[i]) for i in range(len(xs))] # -> [(x0, 1.0), (x1, 2.0)]\n",
    "    return np.double(df.subs(variables))\n",
    "\n",
    "# get_fn_resultSingle(df, np.array([1., 2.]))"
   ]
  },
  {
   "cell_type": "code",
   "execution_count": 7,
   "id": "f4a2470e",
   "metadata": {},
   "outputs": [],
   "source": [
    "XX = np.linspace(-25, 25, 100)\n",
    "YY = np.linspace(-25, 25, 100)"
   ]
  },
  {
   "cell_type": "code",
   "execution_count": 10,
   "id": "774eef51",
   "metadata": {},
   "outputs": [],
   "source": [
    "def get_fn_result(df, x0):\n",
    "    ''' \n",
    "        Вернуть числовой результат частных производных символьно заданной функции \n",
    "        df - массив частных производных функции\n",
    "        x0 - матрица входных данных [[x1,y1], [x2,y2]]\n",
    "    '''\n",
    "    r = []\n",
    "    for x_el in x0:\n",
    "        d_r = []\n",
    "        for i,_ in enumerate(xs):\n",
    "            s = df[i].subs(xs[i], x_el[i])\n",
    "            d_r.append(s)\n",
    "        r.append(d_r)\n",
    "    return r\n",
    "\n",
    "def grad_descent(f, z0, with_history=False, atype=\"constant\", lr=1e-2, eps=1e-06): \n",
    "    ''' \n",
    "        Градиентный спуск для символьно заданной ф-ии\n",
    "        f - функция\n",
    "        z0 - исходный массив точек X,Y\n",
    "        with_history - результат вернется вместе с промежуточными расчетами\n",
    "        atype - тип алгоритма\n",
    "            * constant - постоянный learning rate\n",
    "            * inertion - lr изменяется по формуле lr = 1r0 / min(i + 1, mn) \n",
    "        lr - learning rate\n",
    "        eps - критерий остановки перебора epsilon \n",
    "    '''\n",
    "    df = Array([sympy.diff(f, x) for x in xs]) # Частные производные символьно заданной функции f\n",
    "    history = []\n",
    "    \n",
    "    if atype == \"constant\":\n",
    "        while True:\n",
    "            z0 = z0 - lr * get_fn_resultSingle(df, z0)\n",
    "            history.append(z0)\n",
    "            norm = np.linalg.norm(get_fn_resultSingle(df, z0))\n",
    "            if norm < eps:\n",
    "                break\n",
    "    elif atype == \"inertion\":\n",
    "        idx = 1\n",
    "        mn = 10\n",
    "        lr0 = lr\n",
    "        while True:\n",
    "            lr = 0.1 / min((1 + idx), mn)\n",
    "            idx+=1\n",
    "            \n",
    "            z0 = z0 - lr * get_fn_resultSingle(df, z0)\n",
    "            history.append(z0)\n",
    "            norm = np.linalg.norm(get_fn_resultSingle(df, z0))\n",
    "            if norm < eps:\n",
    "                break\n",
    "    elif atype == \"stohastic-backup\":\n",
    "        #. Стохастический градиентный спуск\n",
    "        epoches = 100\n",
    "        batch_size = 2\n",
    "        z0_prev = z0\n",
    "        z0_new = z0\n",
    "        shuffled = shuffle(z0, random_state=0)\n",
    "        \n",
    "        # Итерация по батчам\n",
    "        def next_batch(z0, batch_size):\n",
    "            for i in range(0, z0.shape[0], batch_size):\n",
    "                yield(z0[i:i+batch_size])\n",
    "        \n",
    "#         print(next_batch(shuffled, batch_size))\n",
    "        \n",
    "        for epoch in range(epoches):\n",
    "            for batch in next_batch(shuffled, batch_size):\n",
    "                z0_prev = z0_new    \n",
    "                z0_new_n = get_fn_resultSingle(df, z0_prev)\n",
    "                z0_new = z0_prev - lr * get_fn_resultSingle(df, batch)\n",
    "                history.append(z0_new)\n",
    "                \n",
    "    elif atype == \"stohastic\":\n",
    "        #. Стохастический градиентный спуск\n",
    "        epoches = 100\n",
    "        batch_size = 6\n",
    "        z0_prev = z0\n",
    "        z0_new = z0\n",
    "        XX_shuffled, YY_shuffled = shuffle(XX, YY, random_state=0)\n",
    "        \n",
    "        # Итерация по батчам\n",
    "        def next_batch(X_, Y_, batch_size):\n",
    "            for i in range(0, X_.shape[0], batch_size):\n",
    "                yield( X_[i:i + batch_size], Y_[i:i + batch_size] )\n",
    "        \n",
    "        for epoch in range(epoches):\n",
    "            XX_shuffled, YY_shuffled = shuffle(XX_shuffled, YY_shuffled, random_state=0)\n",
    "            \n",
    "            # А как использовать то эти батчи????\n",
    "            for (batchX, batchY) in next_batch(XX_shuffled, YY_shuffled, batch_size):\n",
    "                z0_prev = z0_new  \n",
    "                z0_new = z0_prev - lr * get_fn_resultSingle(df, z0_prev)\n",
    "                \n",
    "#                 print(\"batchX\", batchX)\n",
    "#                 print(\"\\nbatchY\", batchY)\n",
    "#                 return 1,2\n",
    "                \n",
    "#                 z0_new = z0_prev - lr * get_fn_resultSingle(df, batch)\n",
    "                history.append(z0_new)\n",
    "        \n",
    "        z0 = z0_new\n",
    "        \n",
    "    # Если нужно вернуть с историей\n",
    "    if with_history:\n",
    "        return np.array(history), z0\n",
    "    else:\n",
    "        return z0"
   ]
  },
  {
   "cell_type": "code",
   "execution_count": 11,
   "id": "6e0415cf",
   "metadata": {},
   "outputs": [
    {
     "name": "stdout",
     "output_type": "stream",
     "text": [
      "> Время выполнения алгоритма inertion 4.1661787033081055 sec \n",
      "Точка минимума: [-2.08574879e+14  2.08574879e+14] \n",
      "\n"
     ]
    }
   ],
   "source": [
    "# start_time = time.time()\n",
    "# history, best = grad_descent(f, np.array([1., 2.]), True, \"constant\")\n",
    "# print(\"> Время выполнения алгоритма constant %s sec \" % (time.time() - start_time))\n",
    "# print(\"Точка минимума:\", best, \"\\n\")\n",
    "\n",
    "# start_time = time.time()\n",
    "# history, best = grad_descent(f, np.array([1., 2.]), True, \"inertion\")\n",
    "# print(\"> Время выполнения алгоритма inertion %s sec \" % (time.time() - start_time))\n",
    "# print(\"Точка минимума:\", best, \"\\n\")\n",
    "\n",
    "start_time = time.time()\n",
    "history, best = grad_descent(f, np.array([1., 2.]), True, \"stohastic\")\n",
    "print(\"> Время выполнения алгоритма inertion %s sec \" % (time.time() - start_time))\n",
    "print(\"Точка минимума:\", best, \"\\n\")"
   ]
  },
  {
   "cell_type": "code",
   "execution_count": 12,
   "id": "6ea3365c",
   "metadata": {},
   "outputs": [
    {
     "name": "stdout",
     "output_type": "stream",
     "text": [
      "История: \n",
      "\n",
      " [[ 9.00000000e-01  1.92000000e+00]\n",
      " [ 8.05200000e-01  1.84560000e+00]\n",
      " [ 7.15272000e-01  1.77648000e+00]\n",
      " ...\n",
      " [-2.00475662e+14  2.00475662e+14]\n",
      " [-2.04485175e+14  2.04485175e+14]\n",
      " [-2.08574879e+14  2.08574879e+14]]\n",
      "\n",
      "Точка минимума: [-2.08574879e+14  2.08574879e+14]\n"
     ]
    }
   ],
   "source": [
    "print(\"История: \\n\\n\", history)\n",
    "print(\"\\nТочка минимума:\", best)"
   ]
  },
  {
   "cell_type": "code",
   "execution_count": null,
   "id": "aa096436",
   "metadata": {},
   "outputs": [],
   "source": [
    "# Data\n",
    "xrange = np.linspace(-12, 9, 200)\n",
    "yrange = np.linspace(-8, 15, 200)\n",
    "X,Y = np.meshgrid(xrange, yrange)\n",
    "\n",
    "Z = X\n",
    "\n",
    "for i in range(len(xrange)):\n",
    "    for j in range(len(yrange)):\n",
    "        xx0 = X[i,j]\n",
    "        xx1 = Y[i,j]\n",
    "        Z[i,j] = f.subs({xs[0]:xx0, xs[1]:xx1})"
   ]
  },
  {
   "cell_type": "code",
   "execution_count": null,
   "id": "7601a508",
   "metadata": {},
   "outputs": [],
   "source": [
    "X,Y = np.meshgrid(xrange, yrange) #Почему-то перезаписываются массивы, поэтому дублирую\n",
    "\n",
    "# Теоретически заданный график\n",
    "ft = lambda x: x[0]**2 + x[1]**2 # функция\n",
    "Zt = ft([X,Y])\n",
    "\n",
    "# Координаты экспериментально найденной точки минимума\n",
    "bx = best[0]\n",
    "by = best[1]\n",
    "bz = f.subs({xs[0]:bx, xs[1]:by})"
   ]
  },
  {
   "cell_type": "code",
   "execution_count": null,
   "id": "9c448304",
   "metadata": {},
   "outputs": [],
   "source": []
  },
  {
   "cell_type": "code",
   "execution_count": null,
   "id": "42187ea6",
   "metadata": {},
   "outputs": [],
   "source": [
    "draw3DGDots(X,Y,Zt, [[bx,by,bz]], \"Теоретический график\")\n",
    "draw3DGDots(X,Y,Z, [[bx,by,bz]], \"Экспериментальный график\")"
   ]
  },
  {
   "cell_type": "code",
   "execution_count": null,
   "id": "b9be9995",
   "metadata": {},
   "outputs": [],
   "source": []
  }
 ],
 "metadata": {
  "kernelspec": {
   "display_name": "Python 3",
   "language": "python",
   "name": "python3"
  },
  "language_info": {
   "codemirror_mode": {
    "name": "ipython",
    "version": 3
   },
   "file_extension": ".py",
   "mimetype": "text/x-python",
   "name": "python",
   "nbconvert_exporter": "python",
   "pygments_lexer": "ipython3",
   "version": "3.8.8"
  }
 },
 "nbformat": 4,
 "nbformat_minor": 5
}
