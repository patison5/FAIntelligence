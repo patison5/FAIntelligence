{
 "cells": [
  {
   "cell_type": "code",
   "execution_count": 1,
   "id": "44125958",
   "metadata": {},
   "outputs": [],
   "source": [
    "from matplotlib import cm\n",
    "from IPython.display import display, Math, Latex\n",
    "import time\n",
    "import scipy as sc\n",
    "import sympy as sy\n",
    "import numpy as np\n",
    "import matplotlib.pyplot as plt\n",
    "from mpl_toolkits.mplot3d import Axes3D\n",
    "import sympy"
   ]
  },
  {
   "cell_type": "code",
   "execution_count": 2,
   "id": "745f907f",
   "metadata": {},
   "outputs": [],
   "source": [
    "# Мат методы из книжки\n",
    "\n",
    "def P4Multi(x, y):\n",
    "    ''' \n",
    "        Мультифункция (рис П.3)\n",
    "        Глобальный экстремум Z = 837,9657 \n",
    "    '''\n",
    "    return x * np.sin(4 * np.pi * x) + y * np.sin(4 * np.pi * y)\n",
    "\n",
    "def P3Schvefel(x, y):\n",
    "    ''' \n",
    "        Синусоидальная функция Швефеля (рис П.3)\n",
    "        Глобальный экстремум Z = 837,9657 \n",
    "    '''\n",
    "    return x * np.sin( np.sqrt(abs(x)) ) + y * np.sin( np.sqrt(abs(y)) )"
   ]
  },
  {
   "cell_type": "code",
   "execution_count": 11,
   "id": "c16c44a3",
   "metadata": {},
   "outputs": [],
   "source": [
    "# Реализация этих же методов при помощи sympy\n",
    "\n",
    "def P4MultiSym():\n",
    "    xs = [sy.Symbol('x'+str(i)) for i in range(2)]\n",
    "    PI = sympy.pi\n",
    "    f = xs[0] * sy.sin(4 * PI * xs[0]) + xs[1] * sy.sin(4 * PI * xs[1])\n",
    "    return f, xs\n",
    "\n",
    "def P3SchvefelSym():\n",
    "    xs = [sy.Symbol('x'+str(i)) for i in range(2)]\n",
    "    PI = sympy.pi\n",
    "    f = xs[0] * sy.sin( sy.sqrt(abs(xs[0])) ) + xs[1] * sy.sin( sy.sqrt(abs(xs[1])) )\n",
    "    return f, xs"
   ]
  },
  {
   "cell_type": "code",
   "execution_count": 74,
   "id": "d1594430",
   "metadata": {},
   "outputs": [],
   "source": [
    "# Методы для отрисовки демо 3D графика\n",
    "\n",
    "def draw3DG(X, Y, Z, title):\n",
    "    ''' Нарисовать 3D график '''\n",
    "    fig = plt.figure(figsize=(8, 8), dpi=100)\n",
    "    ax = plt.axes(projection='3d')\n",
    "    ax.contour3D(X, Y, Z, 100, cmap=cm.coolwarm)\n",
    "    \n",
    "    # ax.view_init(25, -86)\n",
    "    ax.set_xlabel('x')\n",
    "    ax.set_ylabel('y')\n",
    "    ax.set_zlabel('z')\n",
    "    ax.set_title(title)\n",
    "    \n",
    "def draw3DGDots(X, Y, Z, dots, title):\n",
    "    ''' Нарисовать 3D график и набор точек '''\n",
    "    fig = plt.figure(figsize=(7, 7), dpi=100)\n",
    "    ax = plt.axes(projection='3d')\n",
    "    ax.contour3D(X, Y, Z, 80, cmap=cm.coolwarm)\n",
    "    \n",
    "    for dot in dots:\n",
    "        ax.scatter(dot[0], dot[1], dot[2], c='red')\n",
    "        \n",
    "    # ax.view_init(25, -86)\n",
    "    ax.set_xlabel('x')\n",
    "    ax.set_ylabel('y')\n",
    "    ax.set_zlabel('z')\n",
    "    ax.set_title(title)"
   ]
  },
  {
   "cell_type": "code",
   "execution_count": 81,
   "id": "c31c09fa",
   "metadata": {},
   "outputs": [],
   "source": [
    "# Подготовки данных для отрисовки и сама отрисовка\n",
    "\n",
    "def drawP4Multi():\n",
    "    p4XRange = np.linspace(-2, 2, 200)\n",
    "    p4YRange = np.linspace(-2, 2, 200)\n",
    "    p4X,p4Y = np.meshgrid(p4XRange, p4YRange)\n",
    "\n",
    "    draw3DG(p4XRange, p4YRange, P4Multi(p4X, p4Y), \"1\")\n",
    "    \n",
    "def drawP3Schvefel():\n",
    "    p4XRange = np.linspace(-500, 500, 200)\n",
    "    p4YRange = np.linspace(-500, 500, 200)\n",
    "    p4X,p4Y = np.meshgrid(p4XRange, p4YRange)\n",
    "\n",
    "    draw3DG(p4XRange, p4YRange, P3Schvefel(p4X, p4Y), \"1\")\n",
    "    \n",
    "def drawP4Multi2D():\n",
    "    fig, ax = plt.subplots(figsize=(5, 5), dpi=100)\n",
    "        \n",
    "    p4XRange = np.linspace(-500, 500, 200)\n",
    "    p4YRange = np.linspace(-500, 500, 200)\n",
    "    p4X,p4Y = np.meshgrid(p4XRange, p4YRange)\n",
    "\n",
    "    CS = ax.contour(*np.meshgrid(p4XRange, p4YRange), \n",
    "                    P3Schvefel(p4X, p4Y),\n",
    "                    levels = 15,\n",
    "#                     colors=[(0, 0, 0)] * 15,\n",
    "                    cmap=cm.coolwarm\n",
    "                   )\n",
    "    \n",
    "    ax.clabel(CS, fmt=\"%1f\", use_clabeltext=True)\n",
    "    \n",
    "    ax.scatter(0, 0, c='red', s=40, label=\"Итерация спуска\",)\n",
    "    ax.set_title(\"Карта  экстремумов\")\n",
    "\n",
    "    ax.set_xlim(-500, 500)\n",
    "    ax.set_ylim(-500, 500)\n",
    "\n",
    "    plt.legend()\n",
    "    plt.show()"
   ]
  },
  {
   "cell_type": "code",
   "execution_count": 83,
   "id": "98ed1795",
   "metadata": {},
   "outputs": [],
   "source": [
    "# drawP4Multi2D()\n",
    "# drawP4Multi() # Мультифункция (рис П.3)"
   ]
  },
  {
   "cell_type": "code",
   "execution_count": null,
   "id": "2f29c638",
   "metadata": {},
   "outputs": [],
   "source": []
  },
  {
   "cell_type": "code",
   "execution_count": null,
   "id": "6e36e413",
   "metadata": {},
   "outputs": [],
   "source": []
  }
 ],
 "metadata": {
  "kernelspec": {
   "display_name": "Python 3",
   "language": "python",
   "name": "python3"
  },
  "language_info": {
   "codemirror_mode": {
    "name": "ipython",
    "version": 3
   },
   "file_extension": ".py",
   "mimetype": "text/x-python",
   "name": "python",
   "nbconvert_exporter": "python",
   "pygments_lexer": "ipython3",
   "version": "3.8.8"
  }
 },
 "nbformat": 4,
 "nbformat_minor": 5
}
