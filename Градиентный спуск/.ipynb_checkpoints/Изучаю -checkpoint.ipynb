{
 "cells": [
  {
   "cell_type": "code",
   "execution_count": 61,
   "id": "17582115",
   "metadata": {},
   "outputs": [],
   "source": [
    "# Метод наименьших квадратов"
   ]
  },
  {
   "cell_type": "code",
   "execution_count": 62,
   "id": "c490788e",
   "metadata": {},
   "outputs": [
    {
     "data": {
      "image/png": "[encoded data removed]",
      "text/plain": [
       "<Figure size 432x288 with 1 Axes>"
      ]
     },
     "metadata": {
      "needs_background": "light"
     },
     "output_type": "display_data"
    }
   ],
   "source": [
    "from IPython.display import display, Math, Latex\n",
    "import time\n",
    "import scipy as sc\n",
    "import sympy as sy\n",
    "import numpy as np\n",
    "import matplotlib.pyplot as plt\n",
    "\n",
    "N = 100\n",
    "sigma = 3\n",
    "k = 0.5\n",
    "b = 2\n",
    "\n",
    "f = np.array([k*z + b for z in range(N)])\n",
    "y = f + np.random.normal(0, sigma, N)\n",
    "\n",
    "x = np.array(range(N))\n",
    "\n",
    "plt.plot(f)\n",
    "plt.scatter(x, y, s=3, c='red')\n",
    "plt.grid(True)\n",
    "plt.show()"
   ]
  },
  {
   "cell_type": "code",
   "execution_count": 63,
   "id": "8a9d401c",
   "metadata": {},
   "outputs": [
    {
     "data": {
      "text/latex": [
       "$\\displaystyle a^*_{1,1} = \\frac{1}{N}*\\sum_{i=1}^{N}x_iy_i$"
      ],
      "text/plain": [
       "<IPython.core.display.Math object>"
      ]
     },
     "metadata": {},
     "output_type": "display_data"
    },
    {
     "data": {
      "text/latex": [
       "$\\displaystyle a^*_2 = \\frac{1}{N}*\\sum_{i=1}^{N}x_i^2$"
      ],
      "text/plain": [
       "<IPython.core.display.Math object>"
      ]
     },
     "metadata": {},
     "output_type": "display_data"
    },
    {
     "data": {
      "text/latex": [
       "$\\displaystyle m^*_x = \\frac{1}{N}*\\sum_{i=1}^{N}x_i$"
      ],
      "text/plain": [
       "<IPython.core.display.Math object>"
      ]
     },
     "metadata": {},
     "output_type": "display_data"
    },
    {
     "data": {
      "text/latex": [
       "$\\displaystyle m^*_y = \\frac{1}{N}*\\sum_{i=1}^{N}y_i$"
      ],
      "text/plain": [
       "<IPython.core.display.Math object>"
      ]
     },
     "metadata": {},
     "output_type": "display_data"
    }
   ],
   "source": [
    "# Матричная сумма считается быстрее, чем при помощи цикла for\n",
    "display(Math(r'a^*_{1,1} = \\frac{1}{N}*\\sum_{i=1}^{N}x_iy_i'))\n",
    "display(Math(r'a^*_2 = \\frac{1}{N}*\\sum_{i=1}^{N}x_i^2'))\n",
    "display(Math(r'm^*_x = \\frac{1}{N}*\\sum_{i=1}^{N}x_i'))\n",
    "display(Math(r'm^*_y = \\frac{1}{N}*\\sum_{i=1}^{N}y_i'))"
   ]
  },
  {
   "cell_type": "code",
   "execution_count": 64,
   "id": "c84fcb3e",
   "metadata": {},
   "outputs": [
    {
     "data": {
      "text/latex": [
       "$\\displaystyle k = \\frac{a^*_{1,1} - m^*_xm^*_y}{a^*_2 - (m^*_x)^2}$"
      ],
      "text/plain": [
       "<IPython.core.display.Math object>"
      ]
     },
     "metadata": {},
     "output_type": "display_data"
    },
    {
     "data": {
      "text/latex": [
       "$\\displaystyle b = m^*_y - k * m^*_x$"
      ],
      "text/plain": [
       "<IPython.core.display.Math object>"
      ]
     },
     "metadata": {},
     "output_type": "display_data"
    }
   ],
   "source": [
    "display(Math(r'k = \\frac{a^*_{1,1} - m^*_xm^*_y}{a^*_2 - (m^*_x)^2}'))\n",
    "display(Math(r'b = m^*_y - k * m^*_x'))"
   ]
  },
  {
   "cell_type": "code",
   "execution_count": 65,
   "id": "4ccd2a21",
   "metadata": {},
   "outputs": [
    {
     "data": {
      "text/latex": [
       "$\\displaystyle a^*_2 = \\frac{np.dot(x.T, x)}{N} \\rightarrow \\vec x^T * \\vec x = [0,1,2, ..., N - 1]^T * \\begin{vmatrix} 0\\\\1\\\\...\\\\N-1\\end{vmatrix} = \\sum_{i=0}^{N-1}x_i^2$"
      ],
      "text/plain": [
       "<IPython.core.display.Math object>"
      ]
     },
     "metadata": {},
     "output_type": "display_data"
    }
   ],
   "source": [
    "display(Math(r'a^*_2 = \\frac{np.dot(x.T, x)}{N} \\rightarrow \\vec x^T * \\vec x = [0,1,2, ..., N - 1]^T * \\begin{vmatrix} 0\\\\1\\\\...\\\\N-1\\end{vmatrix} = \\sum_{i=0}^{N-1}x_i^2'))"
   ]
  },
  {
   "cell_type": "code",
   "execution_count": 66,
   "id": "a030bd0f",
   "metadata": {},
   "outputs": [],
   "source": [
    "mx = x.sum()/N\n",
    "my = y.sum()/N\n",
    "a2 = np.dot(x.T, x) / N\n",
    "a11 = np.dot(x.T, y) / N"
   ]
  },
  {
   "cell_type": "code",
   "execution_count": 67,
   "id": "81065246",
   "metadata": {},
   "outputs": [],
   "source": [
    "kk = (a11 - mx * my) / (a2 - mx**2)\n",
    "bb = my - kk * mx"
   ]
  },
  {
   "cell_type": "code",
   "execution_count": 68,
   "id": "e24f3079",
   "metadata": {},
   "outputs": [],
   "source": [
    "ff = np.array([kk * z + bb for z in range(N)])"
   ]
  },
  {
   "cell_type": "code",
   "execution_count": 69,
   "id": "67892333",
   "metadata": {},
   "outputs": [
    {
     "data": {
      "image/png": "[encoded data removed]",
      "text/plain": [
       "<Figure size 432x288 with 1 Axes>"
      ]
     },
     "metadata": {
      "needs_background": "light"
     },
     "output_type": "display_data"
    }
   ],
   "source": [
    "plt.plot(ff)\n",
    "plt.plot(f)\n",
    "plt.scatter(x, y, s=3, c='red')\n",
    "plt.grid(True)\n",
    "plt.show()"
   ]
  },
  {
   "cell_type": "code",
   "execution_count": 70,
   "id": "1d4f316e",
   "metadata": {},
   "outputs": [],
   "source": [
    "# Метод градиентного спуска"
   ]
  },
  {
   "cell_type": "code",
   "execution_count": 71,
   "id": "cc931e47",
   "metadata": {},
   "outputs": [],
   "source": [
    "import time\n",
    "import numpy as np\n",
    "import matplotlib.pyplot as plt"
   ]
  },
  {
   "cell_type": "code",
   "execution_count": 72,
   "id": "89024f11",
   "metadata": {},
   "outputs": [],
   "source": [
    "def f(x):\n",
    "    return x * x - 5 * x + 5\n",
    "\n",
    "def df(x):\n",
    "    return 2 * x - 5\n",
    "\n",
    "x_plt = np.arange(1, 5, 0.1) # диапазон изменения аргумента (от 0 до 5, с шагом 0.1)\n",
    "f_plt = [f(x) for x in  x_plt] # для визуализации"
   ]
  },
  {
   "cell_type": "code",
   "execution_count": 73,
   "id": "ab30d5e1",
   "metadata": {},
   "outputs": [
    {
     "data": {
      "image/png": "[encoded data removed]",
      "text/plain": [
       "<Figure size 432x288 with 1 Axes>"
      ]
     },
     "metadata": {
      "needs_background": "light"
     },
     "output_type": "display_data"
    },
    {
     "name": "stdout",
     "output_type": "stream",
     "text": [
      "2.471176962384829\n"
     ]
    }
   ],
   "source": [
    "lmd = 0.1 # Шаг сходимости\n",
    "N = 20 # число итераций\n",
    "xx = 0 # стартовое значение\n",
    "\n",
    "fig, ax = plt.subplots() # Создания окна и осей для графика\n",
    "ax.grid(True) # отображение сетки на графике\n",
    "\n",
    "ax.plot(x_plt, f_plt) # Отображение параболы\n",
    "    \n",
    "for i in range(N):\n",
    "    xx = xx - lmd * df(xx) # Изменение аргумента на текущей итерации\n",
    "    point = ax.scatter(xx, f(xx), c='red') # отображение точки красным цветом\n",
    "\n",
    "ax.scatter(xx, f(xx), c='blue')\n",
    "plt.show()\n",
    "print(xx)"
   ]
  },
  {
   "cell_type": "code",
   "execution_count": 74,
   "id": "b714ea31",
   "metadata": {},
   "outputs": [],
   "source": [
    "# Затухающий шаг сходимости"
   ]
  },
  {
   "cell_type": "code",
   "execution_count": 75,
   "id": "3baa89bf",
   "metadata": {},
   "outputs": [
    {
     "data": {
      "image/png": "[encoded data removed]",
      "text/plain": [
       "<Figure size 432x288 with 1 Axes>"
      ]
     },
     "metadata": {
      "needs_background": "light"
     },
     "output_type": "display_data"
    },
    {
     "name": "stdout",
     "output_type": "stream",
     "text": [
      "2.5\n"
     ]
    }
   ],
   "source": [
    "lmd = 0.3 # Шаг сходимости\n",
    "N = 20 # число итераций\n",
    "xx = 0 # стартовое значение\n",
    "\n",
    "fig, ax = plt.subplots() # Создания окна и осей для графика\n",
    "ax.grid(True) # отображение сетки на графике\n",
    "\n",
    "ax.plot(x_plt, f_plt) # Отображение параболы\n",
    "\n",
    "mn = 100\n",
    "for i in range(N):\n",
    "    lmd = 1 / min(i + 1, mn) \n",
    "    xx = xx - lmd * df(xx) # Изменение аргумента на текущей итерации\n",
    "    ax.scatter(xx, f(xx), c='red') # отображение точки красным цветом\n",
    "\n",
    "ax.scatter(xx, f(xx), c='blue')\n",
    "plt.show()\n",
    "print(xx)"
   ]
  },
  {
   "cell_type": "code",
   "execution_count": 76,
   "id": "159e3932",
   "metadata": {},
   "outputs": [],
   "source": [
    "def f(x):\n",
    "    return np.sin(x) + 0.5 * x\n",
    "\n",
    "def df(x):\n",
    "    return np.cos(x) + 0.5"
   ]
  },
  {
   "cell_type": "code",
   "execution_count": 77,
   "id": "547c25fc",
   "metadata": {},
   "outputs": [],
   "source": [
    "x_plt = np.arange(-5, 5, 0.1) # диапазон изменения аргумента (от 0 до 5, с шагом 0.1)\n",
    "f_plt = [f(x) for x in  x_plt] # для визуализации"
   ]
  },
  {
   "cell_type": "code",
   "execution_count": 78,
   "id": "89cc97e6",
   "metadata": {},
   "outputs": [
    {
     "data": {
      "image/png": "[encoded data removed]",
      "text/plain": [
       "<Figure size 432x288 with 1 Axes>"
      ]
     },
     "metadata": {
      "needs_background": "light"
     },
     "output_type": "display_data"
    },
    {
     "name": "stdout",
     "output_type": "stream",
     "text": [
      "3.884591554825001\n"
     ]
    }
   ],
   "source": [
    "lmd = 0.3 # Шаг сходимости\n",
    "N = 20 # число итераций\n",
    "xx = 2.5 # стартовое значение\n",
    "\n",
    "fig, ax = plt.subplots() # Создания окна и осей для графика\n",
    "ax.grid(True) # отображение сетки на графике\n",
    "\n",
    "ax.plot(x_plt, f_plt) # Отображение параболы\n",
    "\n",
    "mn = 100\n",
    "for i in range(N):\n",
    "    lmd = 1 / min(i + 1, mn) \n",
    "    xx = xx - lmd * df(xx) # Изменение аргумента на текущей итерации\n",
    "    ax.scatter(xx, f(xx), c='red') # отображение точки красным цветом\n",
    "\n",
    "ax.scatter(xx, f(xx), c='blue')\n",
    "plt.show()\n",
    "print(xx)"
   ]
  },
  {
   "cell_type": "code",
   "execution_count": 79,
   "id": "e7911312",
   "metadata": {},
   "outputs": [],
   "source": [
    "# Метод градиентного спуска для поиска двух параметров"
   ]
  },
  {
   "cell_type": "code",
   "execution_count": 80,
   "id": "11f74d26",
   "metadata": {},
   "outputs": [
    {
     "data": {
      "text/latex": [
       "$\\displaystyle E = \\sum_{i=1}^N(y_i - f(x_i))^2 = \\sum_{i=1}^N(y_i-ax_i-b)^2$"
      ],
      "text/plain": [
       "<IPython.core.display.Math object>"
      ]
     },
     "metadata": {},
     "output_type": "display_data"
    }
   ],
   "source": [
    "display(Math(r'E = \\sum_{i=1}^N(y_i - f(x_i))^2 = \\sum_{i=1}^N(y_i-ax_i-b)^2'))"
   ]
  },
  {
   "cell_type": "code",
   "execution_count": 81,
   "id": "ea5f0b05",
   "metadata": {},
   "outputs": [
    {
     "data": {
      "text/latex": [
       "$\\displaystyle \\frac{\\vartheta E(a,b)}{\\vartheta a} = -2 \\sum_{i=1}^N (y_i - ax_i -b) * x_i$"
      ],
      "text/plain": [
       "<IPython.core.display.Math object>"
      ]
     },
     "metadata": {},
     "output_type": "display_data"
    },
    {
     "data": {
      "text/latex": [
       "$\\displaystyle \\frac{\\vartheta E(a,b)}{\\vartheta b} = -2 \\sum_{i=1}^N (y_i - ax_i -b) * 1$"
      ],
      "text/plain": [
       "<IPython.core.display.Math object>"
      ]
     },
     "metadata": {},
     "output_type": "display_data"
    }
   ],
   "source": [
    "display(Math(r'\\frac{\\vartheta E(a,b)}{\\vartheta a} = -2 \\sum_{i=1}^N (y_i - ax_i -b) * x_i'))\n",
    "display(Math(r'\\frac{\\vartheta E(a,b)}{\\vartheta b} = -2 \\sum_{i=1}^N (y_i - ax_i -b) * 1'))"
   ]
  },
  {
   "cell_type": "code",
   "execution_count": 82,
   "id": "c6f848fb",
   "metadata": {},
   "outputs": [
    {
     "data": {
      "text/latex": [
       "$\\displaystyle a_{n+1} = a_n - \\lambda^1_n * \\frac{\\vartheta E(a,b)}{\\vartheta a}$"
      ],
      "text/plain": [
       "<IPython.core.display.Math object>"
      ]
     },
     "metadata": {},
     "output_type": "display_data"
    },
    {
     "data": {
      "text/latex": [
       "$\\displaystyle b_{n+1} = b_n - \\lambda^2_n * \\frac{\\vartheta E(a,b)}{\\vartheta b}$"
      ],
      "text/plain": [
       "<IPython.core.display.Math object>"
      ]
     },
     "metadata": {},
     "output_type": "display_data"
    }
   ],
   "source": [
    "display(Math(r'a_{n+1} = a_n - \\lambda^1_n * \\frac{\\vartheta E(a,b)}{\\vartheta a}'))\n",
    "display(Math(r'b_{n+1} = b_n - \\lambda^2_n * \\frac{\\vartheta E(a,b)}{\\vartheta b}'))"
   ]
  },
  {
   "cell_type": "code",
   "execution_count": 83,
   "id": "e12c8ab8",
   "metadata": {},
   "outputs": [],
   "source": [
    "N = 100 # Кол-во экспериментов\n",
    "Niter = 50 # Кол-во итераций\n",
    "sigma = 3 # Стандартное отклонение наблюдаемых значений\n",
    "at = 0.5\n",
    "bt = 2\n",
    "\n",
    "def E(y,a,b):\n",
    "    ff = np.array([a * z + b for z in range(N)])\n",
    "    return np.dot((y - ff).T, (y - ff))\n",
    "\n",
    "def dEda(y,a,b):\n",
    "    ff = np.array([a * z + b for z in range(N)])\n",
    "    return -2 * np.dot((y - ff).T, range(N))\n",
    "\n",
    "def dEdb(y, a, b):\n",
    "    ff = np.array([a * z + b for z in range(N)])\n",
    "    return -2 * (y - ff).sum()\n",
    "\n",
    "aa = 0\n",
    "bb = 0\n",
    "lmd1 = 0.000001\n",
    "lmd2 = 0.0005\n",
    "\n",
    "f = np.array([at * z + bt for z in range(N)])\n",
    "y = np.array(f + np.random.normal(0, sigma, N))\n",
    "\n",
    "a_plt = np.arange(-1, 2, 0.1)\n",
    "b_plt = np.arange(0, 3, 0.1)\n",
    "E_plt = np.array([[E(y, a, b) for a in a_plt] for b in b_plt])"
   ]
  },
  {
   "cell_type": "code",
   "execution_count": null,
   "id": "80bd8c69",
   "metadata": {},
   "outputs": [],
   "source": []
  }
 ],
 "metadata": {
  "kernelspec": {
   "display_name": "Python 3",
   "language": "python",
   "name": "python3"
  },
  "language_info": {
   "codemirror_mode": {
    "name": "ipython",
    "version": 3
   },
   "file_extension": ".py",
   "mimetype": "text/x-python",
   "name": "python",
   "nbconvert_exporter": "python",
   "pygments_lexer": "ipython3",
   "version": "3.8.8"
  }
 },
 "nbformat": 4,
 "nbformat_minor": 5
}
