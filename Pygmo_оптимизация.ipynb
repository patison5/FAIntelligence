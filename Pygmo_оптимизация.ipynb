{
  "nbformat": 4,
  "nbformat_minor": 0,
  "metadata": {
    "colab": {
      "name": "Pygmo оптимизация.ipynb",
      "provenance": [],
      "collapsed_sections": [],
      "authorship_tag": "ABX9TyMaojJF5LHUEeZo8sDhffcI",
      "include_colab_link": true
    },
    "kernelspec": {
      "name": "python3",
      "display_name": "Python 3"
    },
    "language_info": {
      "name": "python"
    }
  },
  "cells": [
    {
      "cell_type": "markdown",
      "metadata": {
        "id": "view-in-github",
        "colab_type": "text"
      },
      "source": [
        "<a href=\"https://colab.research.google.com/github/patison5/FAIntelligence/blob/main/Pygmo_%D0%BE%D0%BF%D1%82%D0%B8%D0%BC%D0%B8%D0%B7%D0%B0%D1%86%D0%B8%D1%8F.ipynb\" target=\"_parent\"><img src=\"https://colab.research.google.com/assets/colab-badge.svg\" alt=\"Open In Colab\"/></a>"
      ]
    },
    {
      "cell_type": "markdown",
      "source": [
        "### Инициализация"
      ],
      "metadata": {
        "id": "HZ3WKXEFMHpC"
      }
    },
    {
      "cell_type": "code",
      "source": [
        "!pip install PyGMO"
      ],
      "metadata": {
        "colab": {
          "base_uri": "https://localhost:8080/"
        },
        "id": "tihnGDDtMaXb",
        "outputId": "b70633ad-a6e5-4328-98e7-f4b7c8cf5964"
      },
      "execution_count": 1,
      "outputs": [
        {
          "output_type": "stream",
          "name": "stdout",
          "text": [
            "Requirement already satisfied: PyGMO in /usr/local/lib/python3.7/dist-packages (2.16.1)\n",
            "Requirement already satisfied: cloudpickle in /usr/local/lib/python3.7/dist-packages (from PyGMO) (1.3.0)\n",
            "Requirement already satisfied: numpy in /usr/local/lib/python3.7/dist-packages (from PyGMO) (1.19.5)\n"
          ]
        }
      ]
    },
    {
      "cell_type": "code",
      "source": [
        "import numpy as np\n",
        "import pygmo as pg\n",
        "import sympy as sy"
      ],
      "metadata": {
        "id": "vTMVd0q5NSnh"
      },
      "execution_count": 2,
      "outputs": []
    },
    {
      "cell_type": "code",
      "source": [
        "def P4MultiSym():\n",
        "    xs = [sy.Symbol('x'+str(i)) for i in range(2)]\n",
        "    PI = sy.pi\n",
        "    f = xs[0] * sy.sin(4 * PI * xs[0]) + xs[1] * sy.sin(4 * PI * xs[1])\n",
        "    return f, xs\n",
        "\n",
        "def P4Multi(x, y):\n",
        "    ''' \n",
        "        Мультифункция (рис П.3)\n",
        "        Глобальный экстремум Z = 837,9657 \n",
        "    '''\n",
        "    return x * np.sin(4 * np.pi * x) + y * np.sin(4 * np.pi * y)\n",
        "\n",
        "def get_fn_resultSingle(df, x0, xs):\n",
        "    ''' \n",
        "        Вернуть числовой результат частных производных символьно заданной функции для одного параметра x, y\n",
        "        df - массив частных производных функции\n",
        "        x0 - массив входных данных [x, y]\n",
        "    '''\n",
        "    variables = [(xs[i], x0[i]) for i in range(len(xs))] # -> [(x0, 1.0), (x1, 2.0)]\n",
        "    return np.double(df.subs(variables))"
      ],
      "metadata": {
        "id": "TJQCD-XiYvKI"
      },
      "execution_count": 3,
      "outputs": []
    },
    {
      "cell_type": "code",
      "source": [
        "f, xs = P4MultiSym()\n",
        "f, xs"
      ],
      "metadata": {
        "colab": {
          "base_uri": "https://localhost:8080/"
        },
        "id": "ArUjCmYziAOp",
        "outputId": "f5e88b45-3854-406a-df54-5b0011b32e7f"
      },
      "execution_count": 4,
      "outputs": [
        {
          "output_type": "execute_result",
          "data": {
            "text/plain": [
              "(x0*sin(4*pi*x0) + x1*sin(4*pi*x1), [x0, x1])"
            ]
          },
          "metadata": {},
          "execution_count": 4
        }
      ]
    },
    {
      "cell_type": "code",
      "source": [
        "prob = pg.problem(pg.rosenbrock(dim = 5))\n",
        "# print(prob)"
      ],
      "metadata": {
        "id": "H8R4t03YNXjS"
      },
      "execution_count": 5,
      "outputs": []
    },
    {
      "cell_type": "code",
      "source": [
        "class My_MultiFunction:\n",
        "    def __init__(self, dim):\n",
        "        self.dim = dim\n",
        "\n",
        "    def fitness(self,x):\n",
        "      print(x)\n",
        "      print(get_fn_resultSingle(f, x, xs))\n",
        "      return [get_fn_resultSingle(f, x, xs)]\n",
        "\n",
        "    def get_bounds(self):\n",
        "        return (np.full((self.dim,),-2.),np.full((self.dim,),2.))"
      ],
      "metadata": {
        "id": "mkpAIW7AP-_S"
      },
      "execution_count": 37,
      "outputs": []
    },
    {
      "cell_type": "code",
      "source": [
        "prob = pg.problem(My_MultiFunction(5))"
      ],
      "metadata": {
        "id": "h6VSFG5qTLSY"
      },
      "execution_count": 50,
      "outputs": []
    },
    {
      "cell_type": "code",
      "source": [
        "print(prob) "
      ],
      "metadata": {
        "colab": {
          "base_uri": "https://localhost:8080/"
        },
        "id": "nrst5u1fTOAr",
        "outputId": "b60806c7-1884-4b1d-e4a2-fcd8bd468f10"
      },
      "execution_count": 51,
      "outputs": [
        {
          "output_type": "stream",
          "name": "stdout",
          "text": [
            "Problem name: <class '__main__.My_MultiFunction'>\n",
            "\tC++ class name: pybind11::object\n",
            "\n",
            "\tGlobal dimension:\t\t\t5\n",
            "\tInteger dimension:\t\t\t0\n",
            "\tFitness dimension:\t\t\t1\n",
            "\tNumber of objectives:\t\t\t1\n",
            "\tEquality constraints dimension:\t\t0\n",
            "\tInequality constraints dimension:\t0\n",
            "\tLower bounds: [-2, -2, -2, -2, -2]\n",
            "\tUpper bounds: [2, 2, 2, 2, 2]\n",
            "\tHas batch fitness evaluation: false\n",
            "\n",
            "\tHas gradient: false\n",
            "\tUser implemented gradient sparsity: false\n",
            "\tHas hessians: false\n",
            "\tUser implemented hessians sparsity: false\n",
            "\n",
            "\tFitness evaluations: 0\n",
            "\n",
            "\tThread safety: none\n",
            "\n"
          ]
        }
      ]
    },
    {
      "cell_type": "code",
      "source": [
        "algo = pg.algorithm(pg.bee_colony(gen = 20, limit = 20))\n",
        "algo.set_verbosity(1)\n",
        "pop = pg.population(prob, 2)\n",
        "# pop = algo.evolve(pop)\n",
        "print(pop.champion_f) "
      ],
      "metadata": {
        "colab": {
          "base_uri": "https://localhost:8080/"
        },
        "id": "uGQm0_paTQ0w",
        "outputId": "3a167d0d-f386-4b99-9fc7-509f2ee4715d"
      },
      "execution_count": 52,
      "outputs": [
        {
          "output_type": "stream",
          "name": "stdout",
          "text": [
            "[-1.61018167 -0.84495784 -1.35905193  1.51588975 -1.62754657]\n",
            "0.7968885933391072\n",
            "[ 0.15967269 -0.48192149  1.83312994  1.81909264  0.95403926]\n",
            "0.0362103616332662\n",
            "[0.03621036]\n"
          ]
        }
      ]
    },
    {
      "cell_type": "code",
      "source": [
        "n_pygmo = pop.get_x().shape[0]\n",
        "print(pop)\n",
        "print(n_pygmo)"
      ],
      "metadata": {
        "colab": {
          "base_uri": "https://localhost:8080/"
        },
        "id": "BpybJkRQTnVP",
        "outputId": "acd0dbac-4507-43f8-a724-54849586572a"
      },
      "execution_count": 53,
      "outputs": [
        {
          "output_type": "stream",
          "name": "stdout",
          "text": [
            "Problem name: <class '__main__.My_MultiFunction'>\n",
            "\tC++ class name: pybind11::object\n",
            "\n",
            "\tGlobal dimension:\t\t\t5\n",
            "\tInteger dimension:\t\t\t0\n",
            "\tFitness dimension:\t\t\t1\n",
            "\tNumber of objectives:\t\t\t1\n",
            "\tEquality constraints dimension:\t\t0\n",
            "\tInequality constraints dimension:\t0\n",
            "\tLower bounds: [-2, -2, -2, -2, -2]\n",
            "\tUpper bounds: [2, 2, 2, 2, 2]\n",
            "\tHas batch fitness evaluation: false\n",
            "\n",
            "\tHas gradient: false\n",
            "\tUser implemented gradient sparsity: false\n",
            "\tHas hessians: false\n",
            "\tUser implemented hessians sparsity: false\n",
            "\n",
            "\tFitness evaluations: 2\n",
            "\n",
            "\tThread safety: none\n",
            "\n",
            "Population size: 2\n",
            "\n",
            "List of individuals: \n",
            "#0:\n",
            "\tID:\t\t\t11025816436708392331\n",
            "\tDecision vector:\t[-1.61018, -0.844958, -1.35905, 1.51589, -1.62755]\n",
            "\tFitness vector:\t\t[0.796889]\n",
            "#1:\n",
            "\tID:\t\t\t14895778606186348212\n",
            "\tDecision vector:\t[0.159673, -0.481921, 1.83313, 1.81909, 0.954039]\n",
            "\tFitness vector:\t\t[0.0362104]\n",
            "\n",
            "Champion decision vector: [0.159673, -0.481921, 1.83313, 1.81909, 0.954039]\n",
            "Champion fitness: [0.0362104]\n",
            "\n",
            "2\n"
          ]
        }
      ]
    },
    {
      "cell_type": "code",
      "source": [
        "pop = algo.evolve(pop)\n",
        "n_pygmo = pop.get_x().shape[0]\n",
        "print(pop)"
      ],
      "metadata": {
        "colab": {
          "base_uri": "https://localhost:8080/"
        },
        "id": "q6w-tlxUXKQP",
        "outputId": "11f040d4-c3fb-4cd9-dc60-0af1aa4d095f"
      },
      "execution_count": 54,
      "outputs": [
        {
          "output_type": "stream",
          "name": "stdout",
          "text": [
            "[-1.61018167 -0.84495784 -1.35905193  1.51588975 -1.1850494 ]\n",
            "0.7968885933391072\n",
            "[ 0.15967269 -0.1498699   1.83312994  1.81909264  0.95403926]\n",
            "0.28736484739598206\n",
            "[ 0.15967269 -0.79770883  1.83312994  1.81909264  0.95403926]\n",
            "-0.3053541763560758\n",
            "[ 0.15967269 -0.77160313  1.83312994  1.81909264  0.95403926]\n",
            "-0.0621514033865299\n",
            "[-1.61018167 -0.84495784 -1.35905193  1.51588975  0.82524139]\n",
            "0.7968885933391072\n",
            "[ 0.15967269 -0.8347458   1.83312994  1.81909264  0.95403926]\n",
            "-0.5854504457366354\n",
            "[ 0.15967269 -0.8347458   2.          1.81909264  0.95403926]\n",
            "-0.5854504457366354\n",
            "[-2.         -0.84495784 -1.35905193  1.51588975 -1.62754657]\n",
            "-0.7854570071818713\n",
            "[-2.         -0.84495784 -2.          1.51588975 -1.62754657]\n",
            "-0.7854570071818713\n",
            "[ 0.15967269 -0.84054263  1.83312994  1.81909264  0.95403926]\n",
            "-0.6182138143961263\n",
            "[-0.1660624  -0.84495784 -1.35905193  1.51588975 -1.62754657]\n",
            "-0.6410164097635747\n",
            "[-2.         -0.84495784 -1.35905193  1.29148781 -1.62754657]\n",
            "-0.7854570071818713\n",
            "[-2.         -0.84081997 -1.35905193  1.51588975 -1.62754657]\n",
            "-0.76444507572395\n",
            "[ 1.83328809 -0.84054263  1.83312994  1.81909264  0.95403926]\n",
            "-2.350121030521489\n",
            "[ 1.83328809 -0.83620445  1.83312994  1.81909264  0.95403926]\n",
            "-2.325937272044685\n",
            "[-2.         -0.84495784 -1.35905193  1.76555657 -1.62754657]\n",
            "-0.7854570071818713\n",
            "[-2.         -0.84495784 -1.35905193  1.51588975 -2.        ]\n",
            "-0.7854570071818713\n",
            "[ 2.         -0.84054263  1.83312994  1.81909264  0.95403926]\n",
            "-0.7629683912111991\n",
            "[ 1.83328809 -0.84054263  0.82984533  1.81909264  0.95403926]\n",
            "-2.350121030521489\n",
            "[-2.         -0.848905   -1.35905193  1.51588975 -1.62754657]\n",
            "-0.8036706568728197\n",
            "[-2.         -0.84723709 -1.35905193  1.51588975 -1.62754657]\n",
            "-0.7961965893824904\n",
            "[ 1.83328809 -0.84054263  1.83312994  2.          0.95403926]\n",
            "-2.350121030521489\n",
            "[ 1.83328809 -0.84054263  1.83312994  1.81909264  1.71994478]\n",
            "-2.350121030521489\n",
            "[ 1.83328809 -0.84429796  1.83312994  1.81909264  0.95403926]\n",
            "-2.3693885521538816\n",
            "[-2.         -0.848905   -1.35905193  1.51588975 -1.6333227 ]\n",
            "-0.8036706568728197\n",
            "[ 1.83328809 -0.84429796  1.83312994  1.81909264  0.20153989]\n",
            "-2.3693885521538816\n",
            "[ 1.83328809 -0.84885893  1.83312994  1.81909264  0.95403926]\n",
            "-2.3906212853195568\n",
            "[-0.52821092 -0.84885893  1.83312994  1.81909264  0.95403926]\n",
            "-0.6201109098117177\n",
            "[-2.         -0.848905   -1.35905193  1.51588975 -1.62754657]\n",
            "-0.8036706568728197\n",
            "[ 1.83328809 -0.84885893  1.83312994  1.92871436  0.95403926]\n",
            "-2.3906212853195568\n",
            "[-2.         -0.848905   -1.35905193  1.51588975 -2.        ]\n",
            "-0.8036706568728197\n",
            "[ 1.83328809 -0.84885893  2.          1.81909264  0.95403926]\n",
            "-2.3906212853195568\n",
            "[-2.         -0.848905   -0.99151734  1.51588975 -1.62754657]\n",
            "-0.8036706568728197\n",
            "[ 1.83328809 -0.84890178  1.83312994  1.81909264  0.95403926]\n",
            "-2.3908091753612424\n",
            "[ 1.83328809 -0.84890178  0.6419538   1.81909264  0.95403926]\n",
            "-2.3908091753612424\n",
            "[ 1.78748087 -0.84890178  1.83312994  1.81909264  0.95403926]\n",
            "-1.6147730641625904\n",
            "[-2.         -0.848905   -1.35905193  1.76233837 -1.62754657]\n",
            "-0.8036706568728197\n",
            "[ 1.83328809 -0.84890178  1.83312994  1.56598063  0.95403926]\n",
            "-2.3908091753612424\n",
            "[ 1.83328809 -0.84890178  1.83312994  1.81909264  1.15297926]\n",
            "-2.3908091753612424\n",
            "[-2.         -0.848905   -1.35905193  1.51588975 -2.        ]\n",
            "-0.8036706568728197\n",
            "[ 0.91366149 -0.848905   -1.35905193  1.51588975 -1.62754657]\n",
            "-1.611608295146989\n",
            "[ 1.83328809 -0.84890126  1.83312994  1.81909264  0.95403926]\n",
            "-2.3908069184549214\n",
            "[ 0.91366149 -0.84890726 -1.35905193  1.51588975 -1.62754657]\n",
            "-1.6116182143243536\n",
            "[ 1.46596608 -0.84890178  1.83312994  1.81909264  0.95403926]\n",
            "-1.4116856582197637\n",
            "[ 0.91366149 -0.84890726 -1.35905193  1.51588975 -2.        ]\n",
            "-1.6116182143243536\n",
            "[ 1.83328809 -0.84890178  1.83312994  1.61181555  0.95403926]\n",
            "-2.3908091753612424\n",
            "[ 0.91366149 -0.84890413 -1.35905193  1.51588975 -1.62754657]\n",
            "-1.6116045046079233\n",
            "[ 1.83328809 -0.84890178  1.83312994  1.81909264  1.79312332]\n",
            "-2.3908091753612424\n",
            "[ 0.91366149 -0.84890726 -1.35905193  1.42175193 -1.62754657]\n",
            "-1.6116182143243536\n",
            "[ 2.         -0.84890178  1.83312994  1.81909264  0.95403926]\n",
            "-0.8036565360509523\n",
            "[ 0.91366149 -0.84890726 -0.69021582  1.51588975 -1.62754657]\n",
            "-1.6116182143243536\n",
            "[ 1.83328809 -0.84890178  1.83312994  1.81909264  0.0431695 ]\n",
            "-2.3908091753612424\n",
            "[ 0.91366149 -0.84890726 -1.35905193  1.23651624 -1.62754657]\n",
            "-1.6116182143243536\n",
            "[ 1.83328809 -0.84890093  1.83312994  1.81909264  0.95403926]\n",
            "-2.3908054482498318\n",
            "[ 1.83328809 -0.84890573  1.83312994  1.81909264  0.95403926]\n",
            "-2.3908264889091777\n",
            "[ 1.83328809 -0.84890719  1.83312994  1.81909264  0.95403926]\n",
            "-2.3908329189398754\n",
            "[ 0.91366149 -0.84890726 -1.35905193  1.33372121 -1.62754657]\n",
            "-1.6116182143243536\n",
            "[ 1.83328809 -0.84890719  1.37555269  1.81909264  0.95403926]\n",
            "-2.3908329189398754\n",
            "[ 0.91366149 -0.84890722 -1.35905193  1.51588975 -1.62754657]\n",
            "-1.611618041355753\n",
            "[ 1.83328809 -0.84890722  1.83312994  1.81909264  0.95403926]\n",
            "-2.3908330426079676\n",
            "[ 0.91366149 -0.84890726 -1.35905193  1.51588975  0.81644039]\n",
            "-1.6116182143243536\n",
            "[ 1.83328809 -0.84890722  1.83312994  1.75639877  0.95403926]\n",
            "-2.3908330426079676\n",
            "[ 1.83328809 -0.84890722  1.83312994  1.61829558  0.95403926]\n",
            "-2.3908330426079676\n",
            "[ 1.83328809 -0.84890722  1.83312994  2.          0.95403926]\n",
            "-2.3908330426079676\n",
            "[ 0.91366149 -0.84890726  0.67154001  1.51588975 -1.62754657]\n",
            "-1.6116182143243536\n",
            "[ 1.17855432 -0.84890722  1.83312994  1.81909264  0.95403926]\n",
            "0.11790842993056642\n",
            "[ 2.         -0.84890722  1.83312994  1.81909264  0.95403926]\n",
            "-0.8036804032976776\n",
            "[ 0.91366149 -0.84890726 -1.35905193  1.59773214 -1.62754657]\n",
            "-1.6116182143243536\n",
            "[ 0.91366149 -0.84890726 -1.35905193  1.51588975  0.22364047]\n",
            "-1.6116182143243536\n",
            "[ 1.83328809 -0.84890722  1.83312994  1.81909264  0.95403926]\n",
            "-2.390833048012312\n",
            "[ 1.71816921 -0.84890722  1.83312994  1.81909264  0.95403926]\n",
            "-0.1345977861997501\n",
            "[ 1.83328809 -0.84890722  1.83312994  1.8008842   0.95403926]\n",
            "-2.390833048012312\n",
            "[ 0.91366149 -0.84890726 -1.35905193  1.51588975 -1.62754657]\n",
            "-1.6116181888280634\n",
            "[ 1.83328809 -0.84890725  1.83312994  1.81909264  0.95403926]\n",
            "-2.3908331625546766\n",
            "[ 0.91366149 -0.84890725 -1.35905193  1.51588975 -1.62754657]\n",
            "-1.6116181731799268\n",
            "[ 0.91366149 -0.84890726 -1.35905193  1.51588975 -1.87076753]\n",
            "-1.6116182143243536\n",
            "[ 0.91366149 -0.84890726 -1.35905193  1.51588975 -1.206617  ]\n",
            "-1.6116182143243536\n",
            "[ 1.83328809 -0.84890725  1.83312994  1.81909264  1.70649366]\n",
            "-2.3908331625546766\n",
            "[ 1.83328809 -0.84890725  1.83312994  2.          0.95403926]\n",
            "-2.3908331625546766\n",
            "[ 0.91366149 -0.84890726  0.09175205  1.51588975 -1.62754657]\n",
            "-1.6116182143243536\n",
            "Problem name: <class '__main__.My_MultiFunction'>\n",
            "\tC++ class name: pybind11::object\n",
            "\n",
            "\tGlobal dimension:\t\t\t5\n",
            "\tInteger dimension:\t\t\t0\n",
            "\tFitness dimension:\t\t\t1\n",
            "\tNumber of objectives:\t\t\t1\n",
            "\tEquality constraints dimension:\t\t0\n",
            "\tInequality constraints dimension:\t0\n",
            "\tLower bounds: [-2, -2, -2, -2, -2]\n",
            "\tUpper bounds: [2, 2, 2, 2, 2]\n",
            "\tHas batch fitness evaluation: false\n",
            "\n",
            "\tHas gradient: false\n",
            "\tUser implemented gradient sparsity: false\n",
            "\tHas hessians: false\n",
            "\tUser implemented hessians sparsity: false\n",
            "\n",
            "\tFitness evaluations: 82\n",
            "\n",
            "\tThread safety: none\n",
            "\n",
            "Population size: 2\n",
            "\n",
            "List of individuals: \n",
            "#0:\n",
            "\tID:\t\t\t11025816436708392331\n",
            "\tDecision vector:\t[0.913661, -0.848907, -1.35905, 1.51589, -1.62755]\n",
            "\tFitness vector:\t\t[-1.61162]\n",
            "#1:\n",
            "\tID:\t\t\t14895778606186348212\n",
            "\tDecision vector:\t[1.83329, -0.848907, 1.83313, 1.81909, 0.954039]\n",
            "\tFitness vector:\t\t[-2.39083]\n",
            "\n",
            "Champion decision vector: [1.83329, -0.848907, 1.83313, 1.81909, 0.954039]\n",
            "Champion fitness: [-2.39083]\n",
            "\n"
          ]
        }
      ]
    }
  ]
}