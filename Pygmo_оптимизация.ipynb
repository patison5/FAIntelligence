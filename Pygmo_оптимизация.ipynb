{
  "nbformat": 4,
  "nbformat_minor": 0,
  "metadata": {
    "colab": {
      "name": "Pygmo оптимизация.ipynb",
      "provenance": [],
      "collapsed_sections": [],
      "authorship_tag": "ABX9TyNLKbBiQbHV41cxqSYSXl9O",
      "include_colab_link": true
    },
    "kernelspec": {
      "name": "python3",
      "display_name": "Python 3"
    },
    "language_info": {
      "name": "python"
    }
  },
  "cells": [
    {
      "cell_type": "markdown",
      "metadata": {
        "id": "view-in-github",
        "colab_type": "text"
      },
      "source": [
        "<a href=\"https://colab.research.google.com/github/patison5/FAIntelligence/blob/main/Pygmo_%D0%BE%D0%BF%D1%82%D0%B8%D0%BC%D0%B8%D0%B7%D0%B0%D1%86%D0%B8%D1%8F.ipynb\" target=\"_parent\"><img src=\"https://colab.research.google.com/assets/colab-badge.svg\" alt=\"Open In Colab\"/></a>"
      ]
    },
    {
      "cell_type": "markdown",
      "source": [
        "### Инициализация"
      ],
      "metadata": {
        "id": "HZ3WKXEFMHpC"
      }
    },
    {
      "cell_type": "code",
      "source": [
        "!pip install PyGMO"
      ],
      "metadata": {
        "colab": {
          "base_uri": "https://localhost:8080/"
        },
        "id": "tihnGDDtMaXb",
        "outputId": "b70633ad-a6e5-4328-98e7-f4b7c8cf5964"
      },
      "execution_count": 1,
      "outputs": [
        {
          "output_type": "stream",
          "name": "stdout",
          "text": [
            "Requirement already satisfied: PyGMO in /usr/local/lib/python3.7/dist-packages (2.16.1)\n",
            "Requirement already satisfied: cloudpickle in /usr/local/lib/python3.7/dist-packages (from PyGMO) (1.3.0)\n",
            "Requirement already satisfied: numpy in /usr/local/lib/python3.7/dist-packages (from PyGMO) (1.19.5)\n"
          ]
        }
      ]
    },
    {
      "cell_type": "code",
      "source": [
        "import numpy as np\n",
        "import pygmo as pg\n",
        "import sympy as sy"
      ],
      "metadata": {
        "id": "vTMVd0q5NSnh"
      },
      "execution_count": 2,
      "outputs": []
    },
    {
      "cell_type": "code",
      "source": [
        "def P4MultiSym():\n",
        "    xs = [sy.Symbol('x'+str(i)) for i in range(2)]\n",
        "    PI = sy.pi\n",
        "    f = xs[0] * sy.sin(4 * PI * xs[0]) + xs[1] * sy.sin(4 * PI * xs[1])\n",
        "    return f, xs\n",
        "\n",
        "def P4Multi(x, y):\n",
        "    ''' \n",
        "        Мультифункция (рис П.3)\n",
        "        Глобальный экстремум Z = 837,9657 \n",
        "    '''\n",
        "    return x * np.sin(4 * np.pi * x) + y * np.sin(4 * np.pi * y)\n",
        "\n",
        "def get_fn_resultSingle(df, x0, xs):\n",
        "    ''' \n",
        "        Вернуть числовой результат частных производных символьно заданной функции для одного параметра x, y\n",
        "        df - массив частных производных функции\n",
        "        x0 - массив входных данных [x, y]\n",
        "    '''\n",
        "    variables = [(xs[i], x0[i]) for i in range(len(xs))] # -> [(x0, 1.0), (x1, 2.0)]\n",
        "    return np.double(df.subs(variables))\n",
        "\n",
        "def Rosen():\n",
        "  xs = [sy.Symbol('x'+str(i)) for i in range(2)]\n",
        "  f = -100*(xs[1] - xs[0]**2)**2 - (1 - xs[0])**2\n",
        "  return f, xs"
      ],
      "metadata": {
        "id": "TJQCD-XiYvKI"
      },
      "execution_count": 95,
      "outputs": []
    },
    {
      "cell_type": "code",
      "source": [
        "f, xs = P4MultiSym()\n",
        "f2, xs2 = Rosen()\n",
        "# f, xs\n",
        "f2, xs2"
      ],
      "metadata": {
        "colab": {
          "base_uri": "https://localhost:8080/"
        },
        "id": "ArUjCmYziAOp",
        "outputId": "7095ed04-d48c-4478-84ad-5b9c6f05b8f3"
      },
      "execution_count": 96,
      "outputs": [
        {
          "output_type": "execute_result",
          "data": {
            "text/plain": [
              "(-(1 - x0)**2 - 100*(-x0**2 + x1)**2, [x0, x1])"
            ]
          },
          "metadata": {},
          "execution_count": 96
        }
      ]
    },
    {
      "cell_type": "code",
      "source": [
        "class My_MultiFunction:\n",
        "    def __init__(self, dim):\n",
        "        self.dim = dim\n",
        "\n",
        "    def fitness(self,x):\n",
        "      # print(x)\n",
        "      # print(get_fn_resultSingle(f, x, xs))\n",
        "      return [get_fn_resultSingle(f, x, xs)]\n",
        "\n",
        "    def get_bounds(self):\n",
        "        return (np.full((self.dim,),-2.),np.full((self.dim,),2.))\n",
        "\n",
        "class My_Rosen:\n",
        "    def __init__(self, dim):\n",
        "        self.dim = dim\n",
        "\n",
        "    def fitness(self,x):\n",
        "      return [get_fn_resultSingle(f2, x, xs2)]\n",
        "\n",
        "    def get_bounds(self):\n",
        "        return (np.full((self.dim,),-5.),np.full((self.dim,),10.))"
      ],
      "metadata": {
        "id": "mkpAIW7AP-_S"
      },
      "execution_count": 103,
      "outputs": []
    },
    {
      "cell_type": "code",
      "source": [
        "prob = pg.problem(My_MultiFunction(2))\n",
        "prob_rosen = pg.problem(My_Rosen(2))\n",
        "\n",
        "prob_test = pg.problem(pg.rosenbrock(dim = 2))\n",
        "dummy_x = np.full((2000,), 1.)"
      ],
      "metadata": {
        "id": "h6VSFG5qTLSY"
      },
      "execution_count": 104,
      "outputs": []
    },
    {
      "cell_type": "code",
      "source": [
        "print(prob) \n",
        "print(prob_rosen)\n",
        "print(prob_test)"
      ],
      "metadata": {
        "colab": {
          "base_uri": "https://localhost:8080/"
        },
        "id": "nrst5u1fTOAr",
        "outputId": "dc53d008-ea2a-41ee-ec7f-af32a4fd6bf6"
      },
      "execution_count": 105,
      "outputs": [
        {
          "output_type": "stream",
          "name": "stdout",
          "text": [
            "Problem name: <class '__main__.My_MultiFunction'>\n",
            "\tC++ class name: pybind11::object\n",
            "\n",
            "\tGlobal dimension:\t\t\t2\n",
            "\tInteger dimension:\t\t\t0\n",
            "\tFitness dimension:\t\t\t1\n",
            "\tNumber of objectives:\t\t\t1\n",
            "\tEquality constraints dimension:\t\t0\n",
            "\tInequality constraints dimension:\t0\n",
            "\tLower bounds: [-2, -2]\n",
            "\tUpper bounds: [2, 2]\n",
            "\tHas batch fitness evaluation: false\n",
            "\n",
            "\tHas gradient: false\n",
            "\tUser implemented gradient sparsity: false\n",
            "\tHas hessians: false\n",
            "\tUser implemented hessians sparsity: false\n",
            "\n",
            "\tFitness evaluations: 0\n",
            "\n",
            "\tThread safety: none\n",
            "\n",
            "Problem name: <class '__main__.My_Rosen'>\n",
            "\tC++ class name: pybind11::object\n",
            "\n",
            "\tGlobal dimension:\t\t\t2\n",
            "\tInteger dimension:\t\t\t0\n",
            "\tFitness dimension:\t\t\t1\n",
            "\tNumber of objectives:\t\t\t1\n",
            "\tEquality constraints dimension:\t\t0\n",
            "\tInequality constraints dimension:\t0\n",
            "\tLower bounds: [-5, -5]\n",
            "\tUpper bounds: [10, 10]\n",
            "\tHas batch fitness evaluation: false\n",
            "\n",
            "\tHas gradient: false\n",
            "\tUser implemented gradient sparsity: false\n",
            "\tHas hessians: false\n",
            "\tUser implemented hessians sparsity: false\n",
            "\n",
            "\tFitness evaluations: 0\n",
            "\n",
            "\tThread safety: none\n",
            "\n",
            "Problem name: Multidimensional Rosenbrock Function\n",
            "\tC++ class name: pagmo::rosenbrock\n",
            "\n",
            "\tGlobal dimension:\t\t\t2\n",
            "\tInteger dimension:\t\t\t0\n",
            "\tFitness dimension:\t\t\t1\n",
            "\tNumber of objectives:\t\t\t1\n",
            "\tEquality constraints dimension:\t\t0\n",
            "\tInequality constraints dimension:\t0\n",
            "\tLower bounds: [-5, -5]\n",
            "\tUpper bounds: [10, 10]\n",
            "\tHas batch fitness evaluation: false\n",
            "\n",
            "\tHas gradient: true\n",
            "\tUser implemented gradient sparsity: false\n",
            "\tExpected gradients: 2\n",
            "\tHas hessians: false\n",
            "\tUser implemented hessians sparsity: false\n",
            "\n",
            "\tFitness evaluations: 0\n",
            "\tGradient evaluations: 0\n",
            "\n",
            "\tThread safety: constant\n",
            "\n"
          ]
        }
      ]
    },
    {
      "cell_type": "code",
      "source": [
        "algo = pg.algorithm(pg.bee_colony(gen = 20, limit = 20))\n",
        "algo.set_verbosity(1)"
      ],
      "metadata": {
        "id": "uGQm0_paTQ0w"
      },
      "execution_count": 108,
      "outputs": []
    },
    {
      "cell_type": "code",
      "source": [
        "pop_multy = pg.population(prob, 10)\n",
        "pop_rosen = pg.population(prob_rosen, 10)\n",
        "pop_test = pg.population(prob_test, 10)\n",
        "# pop = algo.evolve(pop)\n",
        "print(pop_rosen.champion_f) \n",
        "print(pop_test.champion_f) "
      ],
      "metadata": {
        "colab": {
          "base_uri": "https://localhost:8080/"
        },
        "id": "7Sb0ca8QtfnX",
        "outputId": "30ead190-0736-4cc6-89a4-1fb28358196b"
      },
      "execution_count": 110,
      "outputs": [
        {
          "output_type": "stream",
          "name": "stdout",
          "text": [
            "[-199635.99475034]\n",
            "[32.87587097]\n"
          ]
        }
      ]
    },
    {
      "cell_type": "code",
      "source": [
        "n_pygmo = pop_multy.get_x().shape[0]\n",
        "# print(pop_multy)\n",
        "# print(n_pygmo)"
      ],
      "metadata": {
        "id": "BpybJkRQTnVP"
      },
      "execution_count": 112,
      "outputs": []
    },
    {
      "cell_type": "code",
      "source": [
        "pop_multy = algo.evolve(pop_multy)\n",
        "n_pygmo = pop.get_x().shape[0]\n",
        "pop_multy"
      ],
      "metadata": {
        "colab": {
          "base_uri": "https://localhost:8080/"
        },
        "id": "q6w-tlxUXKQP",
        "outputId": "ff46f9de-3320-4ee9-bd10-489d4735c128"
      },
      "execution_count": 113,
      "outputs": [
        {
          "output_type": "execute_result",
          "data": {
            "text/plain": [
              "Problem name: <class '__main__.My_MultiFunction'>\n",
              "\tC++ class name: pybind11::object\n",
              "\n",
              "\tGlobal dimension:\t\t\t2\n",
              "\tInteger dimension:\t\t\t0\n",
              "\tFitness dimension:\t\t\t1\n",
              "\tNumber of objectives:\t\t\t1\n",
              "\tEquality constraints dimension:\t\t0\n",
              "\tInequality constraints dimension:\t0\n",
              "\tLower bounds: [-2, -2]\n",
              "\tUpper bounds: [2, 2]\n",
              "\tHas batch fitness evaluation: false\n",
              "\n",
              "\tHas gradient: false\n",
              "\tUser implemented gradient sparsity: false\n",
              "\tHas hessians: false\n",
              "\tUser implemented hessians sparsity: false\n",
              "\n",
              "\tFitness evaluations: 410\n",
              "\n",
              "\tThread safety: none\n",
              "\n",
              "Population size: 10\n",
              "\n",
              "List of individuals: \n",
              "#0:\n",
              "\tID:\t\t\t5841560839672999846\n",
              "\tDecision vector:\t[0.163252, -1.19041]\n",
              "\tFitness vector:\t\t[0.955209]\n",
              "#1:\n",
              "\tID:\t\t\t14977949147328460829\n",
              "\tDecision vector:\t[0.871688, -1.26769]\n",
              "\tFitness vector:\t\t[-1.1505]\n",
              "#2:\n",
              "\tID:\t\t\t5163369737481752655\n",
              "\tDecision vector:\t[-1.8591, 1.37866]\n",
              "\tFitness vector:\t\t[-3.19931]\n",
              "#3:\n",
              "\tID:\t\t\t5785756180123682594\n",
              "\tDecision vector:\t[-1.39198, -0.88633]\n",
              "\tFitness vector:\t\t[-2.23777]\n",
              "#4:\n",
              "\tID:\t\t\t6403598275602795059\n",
              "\tDecision vector:\t[-1.38684, 1.33707]\n",
              "\tFitness vector:\t\t[-2.55955]\n",
              "#5:\n",
              "\tID:\t\t\t9705709076125843576\n",
              "\tDecision vector:\t[-1.35566, -1.33442]\n",
              "\tFitness vector:\t\t[-2.48046]\n",
              "#6:\n",
              "\tID:\t\t\t4128361641781723069\n",
              "\tDecision vector:\t[-1.34833, -0.855452]\n",
              "\tFitness vector:\t\t[-2.10307]\n",
              "#7:\n",
              "\tID:\t\t\t16139090139004679472\n",
              "\tDecision vector:\t[1.37722, 1.87377]\n",
              "\tFitness vector:\t\t[-3.25023]\n",
              "#8:\n",
              "\tID:\t\t\t2172221030486869872\n",
              "\tDecision vector:\t[-1.84944, 1.91708]\n",
              "\tFitness vector:\t\t[-3.41006]\n",
              "#9:\n",
              "\tID:\t\t\t17959834939100892535\n",
              "\tDecision vector:\t[0.882228, -1.77357]\n",
              "\tFitness vector:\t\t[-1.39631]\n",
              "\n",
              "Champion decision vector: [-1.84944, 1.91708]\n",
              "Champion fitness: [-3.41006]"
            ]
          },
          "metadata": {},
          "execution_count": 113
        }
      ]
    },
    {
      "cell_type": "code",
      "source": [
        ""
      ],
      "metadata": {
        "id": "v-pyPhq7oF5p"
      },
      "execution_count": null,
      "outputs": []
    }
  ]
}